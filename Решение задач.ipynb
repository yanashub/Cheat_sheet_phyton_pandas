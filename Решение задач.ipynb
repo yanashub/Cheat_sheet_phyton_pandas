{
 "cells": [
  {
   "cell_type": "markdown",
   "id": "df372411",
   "metadata": {
    "toc": true
   },
   "source": [
    "<h1>Table of Contents<span class=\"tocSkip\"></span></h1>\n",
    "<div class=\"toc\"><ul class=\"toc-item\"><li><span><a href=\"#Функции\" data-toc-modified-id=\"Функции-1\"><span class=\"toc-item-num\">1&nbsp;&nbsp;</span>Функции</a></span></li></ul></div>"
   ]
  },
  {
   "cell_type": "markdown",
   "id": "fe0ff521",
   "metadata": {},
   "source": [
    "# 1"
   ]
  },
  {
   "cell_type": "markdown",
   "id": "60f61259",
   "metadata": {},
   "source": [
    "Сколько мегабайт памяти занимает число 3 ** 9090001? \n",
    "Для решения воспользуйтесь функцией getsizeof() из модуля sys."
   ]
  },
  {
   "cell_type": "code",
   "execution_count": 1,
   "id": "760d4cf9",
   "metadata": {},
   "outputs": [
    {
     "data": {
      "text/plain": [
       "1.8320083618164062"
      ]
     },
     "execution_count": 1,
     "metadata": {},
     "output_type": "execute_result"
    }
   ],
   "source": [
    "import sys\n",
    "\n",
    "a=3 ** 9090001\n",
    "# 1 кб=1024 б, 1 мб=1024 кб\n",
    "sys.getsizeof(a)/(1024 * 1024) #ответ в МБ"
   ]
  },
  {
   "cell_type": "markdown",
   "id": "4e258b66",
   "metadata": {},
   "source": [
    "# 2"
   ]
  },
  {
   "cell_type": "markdown",
   "id": "21483864",
   "metadata": {},
   "source": [
    "Используя стандартные арифметические операции представьте самое большое целое число из цифр 4, 4, 4 и приведите его значение."
   ]
  },
  {
   "cell_type": "code",
   "execution_count": 2,
   "id": "9d8d5dbb",
   "metadata": {},
   "outputs": [
    {
     "data": {
      "text/plain": [
       "13407807929942597099574024998205846127479365820592393377723561443721764030073546976801874298166903427690031858186486050853753882811946569946433649006084096"
      ]
     },
     "execution_count": 2,
     "metadata": {},
     "output_type": "execute_result"
    }
   ],
   "source": [
    "4**4**4"
   ]
  },
  {
   "cell_type": "markdown",
   "id": "68513af3",
   "metadata": {},
   "source": [
    "# 3"
   ]
  },
  {
   "cell_type": "markdown",
   "id": "ff755cf5",
   "metadata": {},
   "source": [
    "Напишите функцию pos_add(a, b), которая возвращает положительное значение сложения двух целых чисел."
   ]
  },
  {
   "cell_type": "code",
   "execution_count": 3,
   "id": "75c33c2c",
   "metadata": {},
   "outputs": [
    {
     "name": "stdout",
     "output_type": "stream",
     "text": [
      "75\n"
     ]
    }
   ],
   "source": [
    "def pos_add(a, b):\n",
    "    \n",
    "    return abs(a+b)\n",
    "\n",
    "print(pos_add(-100, 25))"
   ]
  },
  {
   "cell_type": "markdown",
   "id": "02ed70d0",
   "metadata": {},
   "source": [
    "# 4"
   ]
  },
  {
   "cell_type": "markdown",
   "id": "0efcb3ed",
   "metadata": {},
   "source": [
    "Определите функцию foo(a), которая возвращает результат целочисленного и по модулю деления любого целого числа на -11."
   ]
  },
  {
   "cell_type": "code",
   "execution_count": 4,
   "id": "bcc08a2f",
   "metadata": {},
   "outputs": [
    {
     "name": "stdout",
     "output_type": "stream",
     "text": [
      "Целочисленное деление -2\n",
      "Деление по модулю 0\n"
     ]
    }
   ],
   "source": [
    "def foo(a):\n",
    "    print ('Целочисленное деление',(a//(-11)))\n",
    "    print ('Деление по модулю',(a%(-11)))\n",
    "    \n",
    "foo(22)"
   ]
  },
  {
   "cell_type": "code",
   "execution_count": 5,
   "id": "d69c3019",
   "metadata": {},
   "outputs": [
    {
     "name": "stdout",
     "output_type": "stream",
     "text": [
      "(-2, 0)\n",
      "(7, 0)\n",
      "(-1, -10)\n"
     ]
    }
   ],
   "source": [
    "def foo(a):\n",
    "    return divmod(a, -11)\n",
    "\n",
    "# Тесты\n",
    "print(foo(22))\n",
    "print(foo(-77))\n",
    "print(foo(1))"
   ]
  },
  {
   "cell_type": "markdown",
   "id": "4b90215c",
   "metadata": {},
   "source": [
    "# 5"
   ]
  },
  {
   "cell_type": "markdown",
   "id": "be29261e",
   "metadata": {},
   "source": [
    "Напишите функцию num_sum(a), принимающую любое значение.   \n",
    "Если это целое число, то возвратить сумму его чисел.   \n",
    "В противном случае возвращается фраза «Это не целое число»."
   ]
  },
  {
   "cell_type": "code",
   "execution_count": 6,
   "id": "d1870548",
   "metadata": {},
   "outputs": [
    {
     "data": {
      "text/plain": [
       "'«Это не целое число»'"
      ]
     },
     "execution_count": 6,
     "metadata": {},
     "output_type": "execute_result"
    }
   ],
   "source": [
    "def num_sum(a):\n",
    "    #провера на целочисленность числа\n",
    "    if int(a)/float(a) == 1.0:\n",
    "        #переводлим число в троку\n",
    "        a=str(a)\n",
    "        sum_a=0\n",
    "        for i in a:\n",
    "            sum_a +=int(i)\n",
    "        print(sum_a)\n",
    "    else: return '«Это не целое число»'\n",
    "    \n",
    "num_sum(11.7)    "
   ]
  },
  {
   "cell_type": "code",
   "execution_count": 7,
   "id": "d444a1b1",
   "metadata": {},
   "outputs": [
    {
     "data": {
      "text/plain": [
       "11"
      ]
     },
     "execution_count": 7,
     "metadata": {},
     "output_type": "execute_result"
    }
   ],
   "source": [
    "int(11.7)"
   ]
  },
  {
   "cell_type": "markdown",
   "id": "a0d10e03",
   "metadata": {},
   "source": [
    "# 6"
   ]
  },
  {
   "cell_type": "markdown",
   "id": "d4b561fd",
   "metadata": {},
   "source": [
    "Дана последовательность случайных цифр любой длины и «волшебное» положительное число, больше нуля. \n",
    "Напишите функцию magic(), принимающую эти аргументы, и выясните, можно ли разделить сумму квадратов последовательности на «волшебное» число без остатка. \n",
    "В качестве ответа возвращается «Волшебство случается» в случае успеха или «Никакого волшебства», если разделить нельзя."
   ]
  },
  {
   "cell_type": "code",
   "execution_count": 8,
   "id": "172b28e6",
   "metadata": {},
   "outputs": [
    {
     "data": {
      "text/plain": [
       "'«Волшебство случается»'"
      ]
     },
     "execution_count": 8,
     "metadata": {},
     "output_type": "execute_result"
    }
   ],
   "source": [
    "def magic(list,a):\n",
    "    #найдем квадрат каждого числа последовательности\n",
    "    list_sqr=[x**2 for x in list]\n",
    "    sum_list_sqr = 0\n",
    "    for i in list_sqr:\n",
    "        sum_list_sqr += i\n",
    "    if sum_list_sqr%a == 0:\n",
    "        return '«Волшебство случается»'\n",
    "    else: return '«Никакого волшебства»'\n",
    "    \n",
    "magic([2,5,8],5)\n",
    "magic([2,5,7],39)\n"
   ]
  },
  {
   "cell_type": "code",
   "execution_count": 9,
   "id": "22bb237a",
   "metadata": {},
   "outputs": [
    {
     "data": {
      "text/plain": [
       "[4, 25, 64]"
      ]
     },
     "execution_count": 9,
     "metadata": {},
     "output_type": "execute_result"
    }
   ],
   "source": [
    "[x**2 for x in [2,5,8]]"
   ]
  },
  {
   "cell_type": "code",
   "execution_count": 10,
   "id": "edf26810",
   "metadata": {},
   "outputs": [
    {
     "name": "stdout",
     "output_type": "stream",
     "text": [
      "Никакого волшебства\n",
      "Волшебство случается\n",
      "Волшебство случается\n"
     ]
    }
   ],
   "source": [
    "def magic(*args, k):\n",
    "   # 1. Начальная сумма равна нулю\n",
    "   sq_sum = 0\n",
    "   # 2. Складываем квадраты всех аргументов в цикле\n",
    "   for i in args:\n",
    "       sq_sum += i ** 2\n",
    "   # 3. Определяем, равен ли остаток от деления sq_sum на k нулю\n",
    "   if sq_sum % k == 0:\n",
    "        return 'Волшебство случается'\n",
    "   else: return 'Никакого волшебства'\n",
    "\n",
    "# Тесты\n",
    "print(magic(2, 5, 7, k=5))\n",
    "print(magic(2, 5, 7, k=39))\n",
    "print(magic(2, 5, 7, k=2))"
   ]
  },
  {
   "cell_type": "markdown",
   "id": "3992524d",
   "metadata": {},
   "source": [
    "## Функции"
   ]
  },
  {
   "cell_type": "markdown",
   "id": "0348bcf9",
   "metadata": {},
   "source": [
    "Напишите функцию sum_range(start, end), которая суммирует все целые числа от значения «start» до величины «end» включительно. \n",
    "Если пользователь задаст первое число большее чем второе, просто поменяйте их местами."
   ]
  },
  {
   "cell_type": "code",
   "execution_count": 11,
   "id": "5d398975",
   "metadata": {},
   "outputs": [
    {
     "name": "stdout",
     "output_type": "stream",
     "text": [
      "77\n",
      "0\n",
      "5\n"
     ]
    }
   ],
   "source": [
    "def sum_range(start, end):\n",
    "    if start > end:\n",
    "        end, start = start, end\n",
    "    return sum(range(start, end + 1))\n",
    "\n",
    "# Тесты\n",
    "print(sum_range(2, 12))\n",
    "print(sum_range(-4, 4))\n",
    "print(sum_range(3, 2))"
   ]
  },
  {
   "cell_type": "markdown",
   "id": "a703762f",
   "metadata": {},
   "source": [
    "# 2"
   ]
  },
  {
   "cell_type": "markdown",
   "id": "0635c533",
   "metadata": {},
   "source": [
    "Создайте функцию three_args(), которая принимает 1, 2 или 3 строго ключевых параметра. \n",
    "В результате ее работы на печать в консоль выводятся значения переданных переменных, но только если они не равны None. \n",
    "Получим, например, следующее сообщение: «Переданы аргументы: var1 = 2, var3 = 10»."
   ]
  },
  {
   "cell_type": "markdown",
   "id": "d27ecac1",
   "metadata": {},
   "source": [
    "Решение задачника"
   ]
  },
  {
   "cell_type": "code",
   "execution_count": 12,
   "id": "4424f84b",
   "metadata": {},
   "outputs": [
    {
     "name": "stdout",
     "output_type": "stream",
     "text": [
      "Переданы аргументы: var1 = 21\n",
      "Переданы аргументы: var1 = Python, var3 = 3\n",
      "Переданы аргументы: var1 = Python, var2 = 3, var3 = 9\n"
     ]
    }
   ],
   "source": [
    "def three_args(*, var1, var2=None, var3=None):\n",
    "    arguments = ', '.join([f'{arg[0]} = {str(arg[1])}' for arg in locals().items() if arg[1] is not None])\n",
    "    print(f'Переданы аргументы: {arguments}')\n",
    "\n",
    "# Тесты\n",
    "three_args(var1=21)\n",
    "three_args(var1='Python', var3=3)\n",
    "three_args(var1='Python', var2=3, var3=9)"
   ]
  },
  {
   "cell_type": "markdown",
   "id": "8a08fceb",
   "metadata": {},
   "source": [
    "Мое решение"
   ]
  },
  {
   "cell_type": "code",
   "execution_count": 13,
   "id": "509ee873",
   "metadata": {},
   "outputs": [
    {
     "name": "stdout",
     "output_type": "stream",
     "text": [
      "Переданы аргументы: var1 = 1,var3 = 4\n"
     ]
    }
   ],
   "source": [
    "def three_args(**kwargs):\n",
    "    res=[]\n",
    "    for key, value in kwargs.items():\n",
    "        if value!= None:\n",
    "            res.append(f'{key} = {value}')\n",
    "    print('Переданы аргументы:',','.join(res))\n",
    "    return \n",
    "\n",
    "three_args(var1=1, var2=None, var3=4)\n"
   ]
  },
  {
   "cell_type": "markdown",
   "id": "3fcc7115",
   "metadata": {},
   "source": [
    "Решение методом спискового включения List comprehension"
   ]
  },
  {
   "cell_type": "code",
   "execution_count": 14,
   "id": "a4a12a75",
   "metadata": {},
   "outputs": [
    {
     "name": "stdout",
     "output_type": "stream",
     "text": [
      "Переданы аргументы: var1 = 1, var3 = 4\n"
     ]
    }
   ],
   "source": [
    "def three_args(**kwargs):\n",
    "    res=[f'{key} = {value}' for key, value in kwargs.items() if value!= None]\n",
    "    print('Переданы аргументы:',', '.join(res))\n",
    "    return \n",
    "\n",
    "three_args(var1=1, var2=None, var3=4)"
   ]
  },
  {
   "cell_type": "markdown",
   "id": "1e22d159",
   "metadata": {},
   "source": [
    "# 3"
   ]
  },
  {
   "cell_type": "markdown",
   "id": "f7a73c60",
   "metadata": {},
   "source": [
    "Антон попал в коллизию: его функция time_now() работает очень странно. \n",
    "Казалось бы, задача простая: показать текущее время с сообщением. \n",
    "Тем не менее, время не меняется. \n",
    "Код предоставлен ниже с примерами. \n",
    "Постарайтесь решить проблему незадачливого программиста."
   ]
  },
  {
   "cell_type": "code",
   "execution_count": 15,
   "id": "8fd871dc",
   "metadata": {},
   "outputs": [
    {
     "name": "stdout",
     "output_type": "stream",
     "text": [
      "Сейчас такое время:  2022-12-18 13:29:38.548689\n",
      "Прошла секунда:  2022-12-18 13:29:38.548689\n",
      "Ничего не понимаю...  2022-12-18 13:29:38.548689\n"
     ]
    }
   ],
   "source": [
    "from datetime import datetime\n",
    "from time import sleep\n",
    " \n",
    " \n",
    "def time_now(msg, *, dt=datetime.now()):\n",
    "    print(msg, dt)\n",
    " \n",
    " \n",
    "# Тесты\n",
    "time_now('Сейчас такое время: ')\n",
    "sleep(1)\n",
    "time_now('Прошла секунда: ')\n",
    "sleep(1)\n",
    "time_now('Ничего не понимаю... ')"
   ]
  },
  {
   "cell_type": "markdown",
   "id": "9961b5c5",
   "metadata": {},
   "source": [
    "# 4"
   ]
  },
  {
   "cell_type": "markdown",
   "id": "754278a5",
   "metadata": {},
   "source": [
    "Напишите функцию Python, чтобы найти максимум трех чисел"
   ]
  },
  {
   "cell_type": "code",
   "execution_count": 16,
   "id": "e6d2e465",
   "metadata": {},
   "outputs": [
    {
     "data": {
      "text/plain": [
       "6"
      ]
     },
     "execution_count": 16,
     "metadata": {},
     "output_type": "execute_result"
    }
   ],
   "source": [
    "def max_numbers(a,b,c):\n",
    "    return max(a,b,c)\n",
    "max_numbers(3,6,-5)"
   ]
  },
  {
   "cell_type": "markdown",
   "id": "72cc9aea",
   "metadata": {},
   "source": [
    "# 5"
   ]
  },
  {
   "cell_type": "markdown",
   "id": "fcf91d62",
   "metadata": {},
   "source": [
    "Напишите функцию Python для суммирования всех чисел в списке"
   ]
  },
  {
   "cell_type": "code",
   "execution_count": 17,
   "id": "3ea842e9",
   "metadata": {},
   "outputs": [
    {
     "data": {
      "text/plain": [
       "20"
      ]
     },
     "execution_count": 17,
     "metadata": {},
     "output_type": "execute_result"
    }
   ],
   "source": [
    "def sum_numbers(numbers):\n",
    "    total=0\n",
    "    for i in numbers:\n",
    "        total+=i\n",
    "    return total\n",
    "sum_numbers((8, 2, 3, 0, 7))"
   ]
  },
  {
   "cell_type": "markdown",
   "id": "bd45ea05",
   "metadata": {},
   "source": [
    "# 6"
   ]
  },
  {
   "cell_type": "markdown",
   "id": "ddf395d0",
   "metadata": {},
   "source": [
    "Напишите функцию Python для умножения всех чисел в списке"
   ]
  },
  {
   "cell_type": "code",
   "execution_count": 18,
   "id": "5e0e87b2",
   "metadata": {},
   "outputs": [
    {
     "data": {
      "text/plain": [
       "-336"
      ]
     },
     "execution_count": 18,
     "metadata": {},
     "output_type": "execute_result"
    }
   ],
   "source": [
    "def mlt_numbers(numbers):\n",
    "    total=1\n",
    "    for i in numbers:\n",
    "        total=total*i\n",
    "    return total\n",
    "mlt_numbers((8, 2, 3, -1, 7))"
   ]
  },
  {
   "cell_type": "markdown",
   "id": "db0de186",
   "metadata": {},
   "source": [
    "# 7"
   ]
  },
  {
   "cell_type": "markdown",
   "id": "8fe94e19",
   "metadata": {},
   "source": [
    "Напишите программу на Python для обращения строки."
   ]
  },
  {
   "cell_type": "code",
   "execution_count": 19,
   "id": "783ff341",
   "metadata": {},
   "outputs": [
    {
     "name": "stdout",
     "output_type": "stream",
     "text": [
      "амиз\n"
     ]
    }
   ],
   "source": [
    "s_1='зима'\n",
    "\n",
    "print(''.join(reversed(s_1)))   "
   ]
  },
  {
   "cell_type": "code",
   "execution_count": 20,
   "id": "76e199e3",
   "metadata": {},
   "outputs": [
    {
     "name": "stdout",
     "output_type": "stream",
     "text": [
      "Это полиндром!\n"
     ]
    }
   ],
   "source": [
    "# Чтобы найти полиндром необходимо добавить условие\n",
    "\n",
    "s='ТУТ'\n",
    "revers_s=''.join(reversed(s))\n",
    "if revers_s==s:\n",
    "    print('Это полиндром!')\n",
    "else: print('Это не полиндром')"
   ]
  },
  {
   "cell_type": "code",
   "execution_count": 21,
   "id": "06810ae1",
   "metadata": {},
   "outputs": [
    {
     "data": {
      "text/plain": [
       "'ьнесо'"
      ]
     },
     "execution_count": 21,
     "metadata": {},
     "output_type": "execute_result"
    }
   ],
   "source": [
    "#Переворачивание строки через срез\n",
    "s_2='осень'\n",
    "s_2[::-1]"
   ]
  },
  {
   "cell_type": "markdown",
   "id": "a445bf13",
   "metadata": {},
   "source": [
    "# 8"
   ]
  },
  {
   "cell_type": "markdown",
   "id": "f2c90836",
   "metadata": {},
   "source": [
    "Напишите функцию Python для вычисления факториала числа (неотрицательное целое число). Функция принимает число в качестве аргумента"
   ]
  },
  {
   "cell_type": "code",
   "execution_count": 36,
   "id": "2044d73e",
   "metadata": {},
   "outputs": [
    {
     "data": {
      "text/plain": [
       "6"
      ]
     },
     "execution_count": 36,
     "metadata": {},
     "output_type": "execute_result"
    }
   ],
   "source": [
    "def factorial_number(number):\n",
    "    factor=1\n",
    "    for i in range(2, number+1):\n",
    "        factor=factor*i\n",
    "        \n",
    "    return factor  \n",
    "\n",
    "factorial_number(3)"
   ]
  },
  {
   "cell_type": "code",
   "execution_count": 39,
   "id": "a157c8d0",
   "metadata": {},
   "outputs": [
    {
     "data": {
      "text/plain": [
       "6"
      ]
     },
     "execution_count": 39,
     "metadata": {},
     "output_type": "execute_result"
    }
   ],
   "source": [
    "import math\n",
    "\n",
    "math.factorial(3)"
   ]
  },
  {
   "cell_type": "markdown",
   "id": "ed520685",
   "metadata": {},
   "source": [
    "# 9"
   ]
  },
  {
   "cell_type": "markdown",
   "id": "2ef80a1b",
   "metadata": {},
   "source": [
    "Напишите функцию Python, чтобы проверить, находится ли число в заданном диапазоне"
   ]
  },
  {
   "cell_type": "code",
   "execution_count": 42,
   "id": "8b657ca3",
   "metadata": {},
   "outputs": [
    {
     "data": {
      "text/plain": [
       "'не входит'"
      ]
     },
     "execution_count": 42,
     "metadata": {},
     "output_type": "execute_result"
    }
   ],
   "source": [
    "def find_number(number,a,b):\n",
    "    if number in range(a, b+1):\n",
    "        return \"число входит в диапазон\"\n",
    "    else: return \"число не входит\"\n",
    "    \n",
    "find_number(6,1,5)        "
   ]
  },
  {
   "cell_type": "markdown",
   "id": "8bc2b543",
   "metadata": {},
   "source": [
    "# 10"
   ]
  },
  {
   "cell_type": "markdown",
   "id": "867a07ab",
   "metadata": {},
   "source": [
    " Напишите функцию Python, которая принимает строку и рассчитывает количество букв верхнего и нижнего регистра.  \n",
    "\n",
    "Пример строки : «Быстрая Лиса Бровей»  \n",
    "Ожидаемый результат :  \n",
    "Количество символов в верхнем регистре: 3      \n",
    "Количество строчных букв: 12  "
   ]
  },
  {
   "cell_type": "code",
   "execution_count": 2,
   "id": "8959e002",
   "metadata": {},
   "outputs": [
    {
     "data": {
      "text/plain": [
       "False"
      ]
     },
     "execution_count": 2,
     "metadata": {},
     "output_type": "execute_result"
    }
   ],
   "source": [
    "s='Быстрая Лиса Бровей'\n",
    "s.islower()\n",
    "s.isupper()"
   ]
  },
  {
   "cell_type": "code",
   "execution_count": 7,
   "id": "3deca498",
   "metadata": {},
   "outputs": [
    {
     "data": {
      "text/plain": [
       "False"
      ]
     },
     "execution_count": 7,
     "metadata": {},
     "output_type": "execute_result"
    }
   ],
   "source": [
    "'gjhgjJd'.islower()"
   ]
  },
  {
   "cell_type": "code",
   "execution_count": 9,
   "id": "108b890b",
   "metadata": {},
   "outputs": [
    {
     "data": {
      "text/plain": [
       "False"
      ]
     },
     "execution_count": 9,
     "metadata": {},
     "output_type": "execute_result"
    }
   ],
   "source": [
    "'HjhgjJd'.isupper()"
   ]
  },
  {
   "cell_type": "code",
   "execution_count": 21,
   "id": "88fa1240",
   "metadata": {},
   "outputs": [
    {
     "name": "stdout",
     "output_type": "stream",
     "text": [
      "Количество символов в верхнем регистре: 1\n",
      "Количество символов в нижнем регистре: 4\n",
      "None\n"
     ]
    }
   ],
   "source": [
    "\n",
    "def count_letter(s):\n",
    "    l=0\n",
    "    up=0\n",
    "    s='Hello'\n",
    "    for letter in s:\n",
    "\n",
    "        if letter.isupper():\n",
    "            up+=1\n",
    "        elif letter.islower():\n",
    "            l+=1\n",
    "    print('Количество символов в верхнем регистре:', up)\n",
    "    print('Количество символов в нижнем регистре:', l)\n",
    "    return\n",
    "\n",
    "print(count_letter('Быстрая Лиса Бровей'))    \n"
   ]
  },
  {
   "cell_type": "markdown",
   "id": "984c099f",
   "metadata": {},
   "source": [
    "# 11"
   ]
  },
  {
   "cell_type": "markdown",
   "id": "b4b7bc77",
   "metadata": {},
   "source": [
    "Напишите функцию Python, которая берет список и возвращает новый список с уникальными элементами первого списка  \n",
    "Список образцов: [1,2,3,3,3,3,4,5]\n",
    "Уникальный список: [1, 2, 3, 4, 5]"
   ]
  },
  {
   "cell_type": "markdown",
   "id": "13d3b982",
   "metadata": {},
   "source": [
    "Мое решение:  \n",
    "Перевести строку в множество, из множества в строку.  Метод выполнения- list comprehension"
   ]
  },
  {
   "cell_type": "code",
   "execution_count": 38,
   "id": "07a4d76c",
   "metadata": {},
   "outputs": [
    {
     "data": {
      "text/plain": [
       "[1, 2, 3, 4, 5]"
      ]
     },
     "execution_count": 38,
     "metadata": {},
     "output_type": "execute_result"
    }
   ],
   "source": [
    "first_list=[1,2,3,3,3,3,4,5]\n",
    "def unique_list(numbers):\n",
    "    unique_list=[number for number in set(numbers)]\n",
    "    return unique_list\n",
    "\n",
    "unique_list(first_list)"
   ]
  },
  {
   "cell_type": "code",
   "execution_count": 40,
   "id": "d86994ca",
   "metadata": {},
   "outputs": [
    {
     "name": "stdout",
     "output_type": "stream",
     "text": [
      "[1, 2, 3, 4, 5]\n"
     ]
    }
   ],
   "source": [
    "#решенеи учебника\n",
    "def unique_list(l):\n",
    "    x = []\n",
    "    for a in l:\n",
    "        if a not in x:\n",
    "            x.append(a)\n",
    "    return x\n",
    "print(unique_list([1,2,3,3,3,3,4,5])) "
   ]
  },
  {
   "cell_type": "markdown",
   "id": "92cae33c",
   "metadata": {},
   "source": [
    "# 12"
   ]
  },
  {
   "cell_type": "markdown",
   "id": "02b263d1",
   "metadata": {},
   "source": [
    "Напишите функцию Python, которая принимает число в качестве параметра и проверяет, является ли число простым или нет."
   ]
  },
  {
   "cell_type": "code",
   "execution_count": 45,
   "id": "500d8efe",
   "metadata": {},
   "outputs": [
    {
     "data": {
      "text/plain": [
       "'не простое число'"
      ]
     },
     "execution_count": 45,
     "metadata": {},
     "output_type": "execute_result"
    }
   ],
   "source": [
    "def simple_numbers(number):\n",
    "    if number==1:\n",
    "        return 'единица не простое'\n",
    "    elif number == 2:\n",
    "        return 'простое число'\n",
    "    else: \n",
    "        for i in range(2,number):\n",
    "            if (number % i == 0):\n",
    "                return 'не простое число'\n",
    "            else: return 'простое число'\n",
    "\n",
    "simple_numbers(10)                "
   ]
  },
  {
   "cell_type": "markdown",
   "id": "8bfa4599",
   "metadata": {},
   "source": [
    "# 13"
   ]
  },
  {
   "cell_type": "markdown",
   "id": "724c579c",
   "metadata": {},
   "source": [
    "Напишите программу на Python для печати четных чисел из заданного списка."
   ]
  },
  {
   "cell_type": "code",
   "execution_count": 47,
   "id": "0d1c5964",
   "metadata": {},
   "outputs": [
    {
     "data": {
      "text/plain": [
       "[2, 4, 6, 8]"
      ]
     },
     "execution_count": 47,
     "metadata": {},
     "output_type": "execute_result"
    }
   ],
   "source": [
    "number=[1, 2, 3, 4, 5, 6, 7, 8, 9]\n",
    "even_numbers=[x for x in number if x%2==0]\n",
    "even_numbers"
   ]
  },
  {
   "cell_type": "code",
   "execution_count": null,
   "id": "53249f10",
   "metadata": {},
   "outputs": [],
   "source": []
  },
  {
   "cell_type": "code",
   "execution_count": null,
   "id": "98dc8171",
   "metadata": {},
   "outputs": [],
   "source": []
  },
  {
   "cell_type": "code",
   "execution_count": null,
   "id": "3cfb510a",
   "metadata": {},
   "outputs": [],
   "source": []
  }
 ],
 "metadata": {
  "kernelspec": {
   "display_name": "Python 3 (ipykernel)",
   "language": "python",
   "name": "python3"
  },
  "language_info": {
   "codemirror_mode": {
    "name": "ipython",
    "version": 3
   },
   "file_extension": ".py",
   "mimetype": "text/x-python",
   "name": "python",
   "nbconvert_exporter": "python",
   "pygments_lexer": "ipython3",
   "version": "3.9.12"
  },
  "toc": {
   "base_numbering": 1,
   "nav_menu": {},
   "number_sections": true,
   "sideBar": true,
   "skip_h1_title": true,
   "title_cell": "Table of Contents",
   "title_sidebar": "Contents",
   "toc_cell": true,
   "toc_position": {},
   "toc_section_display": true,
   "toc_window_display": false
  }
 },
 "nbformat": 4,
 "nbformat_minor": 5
}
