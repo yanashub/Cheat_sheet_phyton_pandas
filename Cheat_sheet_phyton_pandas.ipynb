{
 "cells": [
  {
   "cell_type": "markdown",
   "id": "0d7abb24",
   "metadata": {
    "toc": true
   },
   "source": [
    "<h1>Table of Contents<span class=\"tocSkip\"></span></h1>\n",
    "<div class=\"toc\"><ul class=\"toc-item\"><li><span><a href=\"#Как-&quot;прятать&quot;-данные\" data-toc-modified-id=\"Как-&quot;прятать&quot;-данные-1\"><span class=\"toc-item-num\">1&nbsp;&nbsp;</span>Как \"прятать\" данные</a></span></li><li><span><a href=\"#Предобработка-данных\" data-toc-modified-id=\"Предобработка-данных-2\"><span class=\"toc-item-num\">2&nbsp;&nbsp;</span>Предобработка данных</a></span><ul class=\"toc-item\"><li><span><a href=\"#срез-в-DataFrame\" data-toc-modified-id=\"срез-в-DataFrame-2.1\"><span class=\"toc-item-num\">2.1&nbsp;&nbsp;</span>срез в DataFrame</a></span></li><li><span><a href=\"#типы-данных\" data-toc-modified-id=\"типы-данных-2.2\"><span class=\"toc-item-num\">2.2&nbsp;&nbsp;</span>типы данных</a></span></li><li><span><a href=\"#Обработка-пустых-строк\" data-toc-modified-id=\"Обработка-пустых-строк-2.3\"><span class=\"toc-item-num\">2.3&nbsp;&nbsp;</span>Обработка пустых строк</a></span></li><li><span><a href=\"#List-comprehension-генератора-списка-или-списковое-включение\" data-toc-modified-id=\"List-comprehension-генератора-списка-или-списковое-включение-2.4\"><span class=\"toc-item-num\">2.4&nbsp;&nbsp;</span>List comprehension генератора списка или списковое включение</a></span></li><li><span><a href=\"#Методы-словаря-dict-и-поддерживаемые-операции\" data-toc-modified-id=\"Методы-словаря-dict-и-поддерживаемые-операции-2.5\"><span class=\"toc-item-num\">2.5&nbsp;&nbsp;</span><strong>Методы словаря</strong> dict и поддерживаемые операции</a></span></li></ul></li><li><span><a href=\"#Немного-о-функциях\" data-toc-modified-id=\"Немного-о-функциях-3\"><span class=\"toc-item-num\">3&nbsp;&nbsp;</span>Немного о функциях</a></span><ul class=\"toc-item\"><li><span><a href=\"#lambda\" data-toc-modified-id=\"lambda-3.1\"><span class=\"toc-item-num\">3.1&nbsp;&nbsp;</span>lambda</a></span></li><li><span><a href=\"#Методы-класса-time.-Функции-времени\" data-toc-modified-id=\"Методы-класса-time.-Функции-времени-3.2\"><span class=\"toc-item-num\">3.2&nbsp;&nbsp;</span>Методы класса time. Функции времени</a></span></li><li><span><a href=\"#Отображение(нахождение)-кода-функции-inspect.getsource\" data-toc-modified-id=\"Отображение(нахождение)-кода-функции-inspect.getsource-3.3\"><span class=\"toc-item-num\">3.3&nbsp;&nbsp;</span>Отображение(нахождение) кода функции inspect.getsource</a></span></li></ul></li><li><span><a href=\"#Исследовательский-анализ\" data-toc-modified-id=\"Исследовательский-анализ-4\"><span class=\"toc-item-num\">4&nbsp;&nbsp;</span>Исследовательский анализ</a></span><ul class=\"toc-item\"><li><span><a href=\"#Группировки-groupby-и-pivot_table\" data-toc-modified-id=\"Группировки-groupby-и-pivot_table-4.1\"><span class=\"toc-item-num\">4.1&nbsp;&nbsp;</span><strong>Группировки groupby и pivot_table</strong></a></span></li><li><span><a href=\"#Проверка-наличия-элементов-списка-lst-в-столбце\" data-toc-modified-id=\"Проверка-наличия-элементов-списка-lst-в-столбце-4.2\"><span class=\"toc-item-num\">4.2&nbsp;&nbsp;</span>Проверка наличия элементов списка lst в столбце</a></span></li><li><span><a href=\"#Вычисление-коэффициента-корреляции-Пирсона\" data-toc-modified-id=\"Вычисление-коэффициента-корреляции-Пирсона-4.3\"><span class=\"toc-item-num\">4.3&nbsp;&nbsp;</span>Вычисление коэффициента корреляции Пирсона</a></span></li></ul></li><li><span><a href=\"#Визуализация-pandas\" data-toc-modified-id=\"Визуализация-pandas-5\"><span class=\"toc-item-num\">5&nbsp;&nbsp;</span>Визуализация pandas</a></span><ul class=\"toc-item\"><li><span><a href=\"#plot-(линейный-график)\" data-toc-modified-id=\"plot-(линейный-график)-5.1\"><span class=\"toc-item-num\">5.1&nbsp;&nbsp;</span>plot (линейный график)</a></span></li><li><span><a href=\"#plot-Построение-точечной-диаграммы-(диаграммы-рассеяния)\" data-toc-modified-id=\"plot-Построение-точечной-диаграммы-(диаграммы-рассеяния)-5.2\"><span class=\"toc-item-num\">5.2&nbsp;&nbsp;</span>plot Построение точечной диаграммы (диаграммы рассеяния)</a></span></li><li><span><a href=\"#plot-Построение-ячеечной-диаграммы\" data-toc-modified-id=\"plot-Построение-ячеечной-диаграммы-5.3\"><span class=\"toc-item-num\">5.3&nbsp;&nbsp;</span>plot Построение ячеечной диаграммы</a></span></li><li><span><a href=\"#plot-(Построение-столбчатой-диаграммы)\" data-toc-modified-id=\"plot-(Построение-столбчатой-диаграммы)-5.4\"><span class=\"toc-item-num\">5.4&nbsp;&nbsp;</span>plot (Построение столбчатой диаграммы)</a></span></li></ul></li><li><span><a href=\"#Визуализация-ч/з-библиотеку-seaborn\" data-toc-modified-id=\"Визуализация-ч/з-библиотеку-seaborn-6\"><span class=\"toc-item-num\">6&nbsp;&nbsp;</span>Визуализация ч/з библиотеку seaborn</a></span></li></ul></div>"
   ]
  },
  {
   "cell_type": "markdown",
   "id": "5c7061b8",
   "metadata": {},
   "source": [
    "# Моя Pandas шпаргалка"
   ]
  },
  {
   "cell_type": "markdown",
   "id": "c6506051",
   "metadata": {},
   "source": []
  },
  {
   "cell_type": "markdown",
   "id": "97e63dfb",
   "metadata": {},
   "source": [
    "Ссылочки:\n",
    "- Здесь собраны переменные, методы, индексы и срезы, а также форматирование дат с соответствующими подсказками в сносках:  \n",
    "https://cheatography.com/davechild/cheat-sheets/python/\n",
    "- Регулярочки  \n",
    "https://cheatography.com/mutanclan/cheat-sheets/python-regular-expression-regex/\n",
    "- Pandas и его графики  \n",
    "https://cheatography.com/zayd/cheat-sheets/pandasplotting/\n",
    "- https://smartiqa.ru/python-workbook/def\n",
    "- https://docs-python.ru/tutorial/operatsii-slovarjami-dict-python/"
   ]
  },
  {
   "cell_type": "markdown",
   "id": "0fde5282",
   "metadata": {},
   "source": [
    "## Как \"прятать\" данные"
   ]
  },
  {
   "cell_type": "markdown",
   "id": "036aed4a",
   "metadata": {},
   "source": [
    "1. Создать yaml файл.  \n",
    "Он удобен тем, что данных хранить можно в словарях и можно комментировать.\n",
    "2. Подключаем библиотеку.  \n",
    "from yaml import load, FullLoader\n",
    "3. Открываем файл.  \n",
    "Важно, не выводить на экран инфо файла yaml"
   ]
  },
  {
   "cell_type": "code",
   "execution_count": 39,
   "id": "71ca1c4e",
   "metadata": {},
   "outputs": [
    {
     "data": {
      "text/plain": [
       "'yana'"
      ]
     },
     "execution_count": 39,
     "metadata": {},
     "output_type": "execute_result"
    }
   ],
   "source": [
    "from yaml import load, FullLoader\n",
    "\n",
    "login = 'yana'\n",
    "pwd = '1111'\n",
    "\n",
    "token = 'DFHIQ-4yFG8r7oG3qy'\n",
    "\n",
    "config = load(open('config.yaml'), Loader=FullLoader)\n",
    "config['tokens']['login']\n"
   ]
  },
  {
   "cell_type": "markdown",
   "id": "4f0ffc32",
   "metadata": {},
   "source": [
    "## Предобработка данных"
   ]
  },
  {
   "cell_type": "markdown",
   "id": "a062a24d",
   "metadata": {},
   "source": [
    " Загрузим данные с помощью метода read_csv()"
   ]
  },
  {
   "cell_type": "code",
   "execution_count": 40,
   "id": "a009a920",
   "metadata": {
    "scrolled": true
   },
   "outputs": [
    {
     "data": {
      "text/html": [
       "<div>\n",
       "<style scoped>\n",
       "    .dataframe tbody tr th:only-of-type {\n",
       "        vertical-align: middle;\n",
       "    }\n",
       "\n",
       "    .dataframe tbody tr th {\n",
       "        vertical-align: top;\n",
       "    }\n",
       "\n",
       "    .dataframe thead th {\n",
       "        text-align: right;\n",
       "    }\n",
       "</style>\n",
       "<table border=\"1\" class=\"dataframe\">\n",
       "  <thead>\n",
       "    <tr style=\"text-align: right;\">\n",
       "      <th></th>\n",
       "      <th>user_id</th>\n",
       "      <th>age</th>\n",
       "      <th>churn_date</th>\n",
       "      <th>city</th>\n",
       "      <th>first_name</th>\n",
       "      <th>last_name</th>\n",
       "      <th>reg_date</th>\n",
       "      <th>tariff</th>\n",
       "    </tr>\n",
       "  </thead>\n",
       "  <tbody>\n",
       "    <tr>\n",
       "      <th>0</th>\n",
       "      <td>1000</td>\n",
       "      <td>52</td>\n",
       "      <td>NaN</td>\n",
       "      <td>Краснодар</td>\n",
       "      <td>Рафаил</td>\n",
       "      <td>Верещагин</td>\n",
       "      <td>2018-05-25</td>\n",
       "      <td>ultra</td>\n",
       "    </tr>\n",
       "    <tr>\n",
       "      <th>1</th>\n",
       "      <td>1001</td>\n",
       "      <td>41</td>\n",
       "      <td>NaN</td>\n",
       "      <td>Москва</td>\n",
       "      <td>Иван</td>\n",
       "      <td>Ежов</td>\n",
       "      <td>2018-11-01</td>\n",
       "      <td>smart</td>\n",
       "    </tr>\n",
       "    <tr>\n",
       "      <th>2</th>\n",
       "      <td>1002</td>\n",
       "      <td>59</td>\n",
       "      <td>NaN</td>\n",
       "      <td>Стерлитамак</td>\n",
       "      <td>Евгений</td>\n",
       "      <td>Абрамович</td>\n",
       "      <td>2018-06-17</td>\n",
       "      <td>smart</td>\n",
       "    </tr>\n",
       "    <tr>\n",
       "      <th>3</th>\n",
       "      <td>1003</td>\n",
       "      <td>23</td>\n",
       "      <td>NaN</td>\n",
       "      <td>Москва</td>\n",
       "      <td>Белла</td>\n",
       "      <td>Белякова</td>\n",
       "      <td>2018-08-17</td>\n",
       "      <td>ultra</td>\n",
       "    </tr>\n",
       "    <tr>\n",
       "      <th>4</th>\n",
       "      <td>1004</td>\n",
       "      <td>68</td>\n",
       "      <td>NaN</td>\n",
       "      <td>Новокузнецк</td>\n",
       "      <td>Татьяна</td>\n",
       "      <td>Авдеенко</td>\n",
       "      <td>2018-05-14</td>\n",
       "      <td>ultra</td>\n",
       "    </tr>\n",
       "  </tbody>\n",
       "</table>\n",
       "</div>"
      ],
      "text/plain": [
       "   user_id  age churn_date         city first_name  last_name    reg_date  \\\n",
       "0     1000   52        NaN    Краснодар     Рафаил  Верещагин  2018-05-25   \n",
       "1     1001   41        NaN       Москва       Иван       Ежов  2018-11-01   \n",
       "2     1002   59        NaN  Стерлитамак    Евгений  Абрамович  2018-06-17   \n",
       "3     1003   23        NaN       Москва      Белла   Белякова  2018-08-17   \n",
       "4     1004   68        NaN  Новокузнецк    Татьяна   Авдеенко  2018-05-14   \n",
       "\n",
       "  tariff  \n",
       "0  ultra  \n",
       "1  smart  \n",
       "2  smart  \n",
       "3  ultra  \n",
       "4  ultra  "
      ]
     },
     "metadata": {},
     "output_type": "display_data"
    },
    {
     "name": "stdout",
     "output_type": "stream",
     "text": [
      "<class 'pandas.core.frame.DataFrame'>\n",
      "RangeIndex: 500 entries, 0 to 499\n",
      "Data columns (total 8 columns):\n",
      " #   Column      Non-Null Count  Dtype \n",
      "---  ------      --------------  ----- \n",
      " 0   user_id     500 non-null    int64 \n",
      " 1   age         500 non-null    int64 \n",
      " 2   churn_date  38 non-null     object\n",
      " 3   city        500 non-null    object\n",
      " 4   first_name  500 non-null    object\n",
      " 5   last_name   500 non-null    object\n",
      " 6   reg_date    500 non-null    object\n",
      " 7   tariff      500 non-null    object\n",
      "dtypes: int64(2), object(6)\n",
      "memory usage: 31.4+ KB\n"
     ]
    }
   ],
   "source": [
    "#Импортируем библиотеку pandas\n",
    "import pandas as pd\n",
    "# Загрузим данные с помощью метода read_csv()\n",
    "df = pd.read_csv(r'C:\\datasets\\users.csv')\n",
    "\n",
    "display(df.head())\n",
    "df.info()"
   ]
  },
  {
   "cell_type": "markdown",
   "id": "5ea75db4",
   "metadata": {},
   "source": [
    "Главное различие между Series и DataFrame – размерность:\n",
    "\n",
    "Series – одномерная структура данных\n",
    "DataFrame – двумерная структура данных"
   ]
  },
  {
   "cell_type": "code",
   "execution_count": 41,
   "id": "f1dc06ba",
   "metadata": {},
   "outputs": [
    {
     "data": {
      "text/plain": [
       "0      Краснодар\n",
       "1         Москва\n",
       "2    Стерлитамак\n",
       "3         Москва\n",
       "4    Новокузнецк\n",
       "Name: city, dtype: object"
      ]
     },
     "execution_count": 41,
     "metadata": {},
     "output_type": "execute_result"
    }
   ],
   "source": [
    "#Series\n",
    "df['city'].head()"
   ]
  },
  {
   "cell_type": "code",
   "execution_count": 42,
   "id": "ab282c9d",
   "metadata": {},
   "outputs": [
    {
     "data": {
      "text/html": [
       "<div>\n",
       "<style scoped>\n",
       "    .dataframe tbody tr th:only-of-type {\n",
       "        vertical-align: middle;\n",
       "    }\n",
       "\n",
       "    .dataframe tbody tr th {\n",
       "        vertical-align: top;\n",
       "    }\n",
       "\n",
       "    .dataframe thead th {\n",
       "        text-align: right;\n",
       "    }\n",
       "</style>\n",
       "<table border=\"1\" class=\"dataframe\">\n",
       "  <thead>\n",
       "    <tr style=\"text-align: right;\">\n",
       "      <th></th>\n",
       "      <th>user_id</th>\n",
       "      <th>age</th>\n",
       "      <th>churn_date</th>\n",
       "      <th>city</th>\n",
       "      <th>first_name</th>\n",
       "      <th>last_name</th>\n",
       "      <th>reg_date</th>\n",
       "      <th>tariff</th>\n",
       "    </tr>\n",
       "  </thead>\n",
       "  <tbody>\n",
       "    <tr>\n",
       "      <th>0</th>\n",
       "      <td>1000</td>\n",
       "      <td>52</td>\n",
       "      <td>NaN</td>\n",
       "      <td>Краснодар</td>\n",
       "      <td>Рафаил</td>\n",
       "      <td>Верещагин</td>\n",
       "      <td>2018-05-25</td>\n",
       "      <td>ultra</td>\n",
       "    </tr>\n",
       "    <tr>\n",
       "      <th>1</th>\n",
       "      <td>1001</td>\n",
       "      <td>41</td>\n",
       "      <td>NaN</td>\n",
       "      <td>Москва</td>\n",
       "      <td>Иван</td>\n",
       "      <td>Ежов</td>\n",
       "      <td>2018-11-01</td>\n",
       "      <td>smart</td>\n",
       "    </tr>\n",
       "    <tr>\n",
       "      <th>2</th>\n",
       "      <td>1002</td>\n",
       "      <td>59</td>\n",
       "      <td>NaN</td>\n",
       "      <td>Стерлитамак</td>\n",
       "      <td>Евгений</td>\n",
       "      <td>Абрамович</td>\n",
       "      <td>2018-06-17</td>\n",
       "      <td>smart</td>\n",
       "    </tr>\n",
       "    <tr>\n",
       "      <th>3</th>\n",
       "      <td>1003</td>\n",
       "      <td>23</td>\n",
       "      <td>NaN</td>\n",
       "      <td>Москва</td>\n",
       "      <td>Белла</td>\n",
       "      <td>Белякова</td>\n",
       "      <td>2018-08-17</td>\n",
       "      <td>ultra</td>\n",
       "    </tr>\n",
       "    <tr>\n",
       "      <th>4</th>\n",
       "      <td>1004</td>\n",
       "      <td>68</td>\n",
       "      <td>NaN</td>\n",
       "      <td>Новокузнецк</td>\n",
       "      <td>Татьяна</td>\n",
       "      <td>Авдеенко</td>\n",
       "      <td>2018-05-14</td>\n",
       "      <td>ultra</td>\n",
       "    </tr>\n",
       "  </tbody>\n",
       "</table>\n",
       "</div>"
      ],
      "text/plain": [
       "   user_id  age churn_date         city first_name  last_name    reg_date  \\\n",
       "0     1000   52        NaN    Краснодар     Рафаил  Верещагин  2018-05-25   \n",
       "1     1001   41        NaN       Москва       Иван       Ежов  2018-11-01   \n",
       "2     1002   59        NaN  Стерлитамак    Евгений  Абрамович  2018-06-17   \n",
       "3     1003   23        NaN       Москва      Белла   Белякова  2018-08-17   \n",
       "4     1004   68        NaN  Новокузнецк    Татьяна   Авдеенко  2018-05-14   \n",
       "\n",
       "  tariff  \n",
       "0  ultra  \n",
       "1  smart  \n",
       "2  smart  \n",
       "3  ultra  \n",
       "4  ultra  "
      ]
     },
     "execution_count": 42,
     "metadata": {},
     "output_type": "execute_result"
    }
   ],
   "source": [
    "#DataFrame\n",
    "df.head()"
   ]
  },
  {
   "cell_type": "markdown",
   "id": "5c55b26e",
   "metadata": {},
   "source": [
    "Чтобы создать Series передать список в конструктор `pd.Series()`"
   ]
  },
  {
   "cell_type": "code",
   "execution_count": 43,
   "id": "d8285439",
   "metadata": {},
   "outputs": [],
   "source": [
    "l = [3,4,5,6,7,8] # список — объект\n",
    "s = pd.Series(l) # создаём из списка Series с помощью конструктора Series"
   ]
  },
  {
   "cell_type": "code",
   "execution_count": 44,
   "id": "c2a0dede",
   "metadata": {
    "scrolled": false
   },
   "outputs": [
    {
     "name": "stdout",
     "output_type": "stream",
     "text": [
      "           user_id        age\n",
      "count   500.000000  500.00000\n",
      "mean   1249.500000   46.58800\n",
      "std     144.481833   16.66763\n",
      "min    1000.000000   18.00000\n",
      "25%    1124.750000   32.00000\n",
      "50%    1249.500000   46.00000\n",
      "75%    1374.250000   62.00000\n",
      "max    1499.000000   75.00000\n",
      "(500, 8)\n"
     ]
    },
    {
     "data": {
      "text/plain": [
       "Index(['user_id', 'age', 'churn_date', 'city', 'first_name', 'last_name',\n",
       "       'reg_date', 'tariff'],\n",
       "      dtype='object')"
      ]
     },
     "execution_count": 44,
     "metadata": {},
     "output_type": "execute_result"
    }
   ],
   "source": [
    "print(df.describe()) #вызов метода\n",
    "\n",
    "#размер фрейма\n",
    "print(df.shape) #вызов атрибута\n",
    "\n",
    "#список  столбцов\n",
    "df.columns"
   ]
  },
  {
   "cell_type": "code",
   "execution_count": 45,
   "id": "a3c7477e",
   "metadata": {},
   "outputs": [
    {
     "data": {
      "text/html": [
       "<div>\n",
       "<style scoped>\n",
       "    .dataframe tbody tr th:only-of-type {\n",
       "        vertical-align: middle;\n",
       "    }\n",
       "\n",
       "    .dataframe tbody tr th {\n",
       "        vertical-align: top;\n",
       "    }\n",
       "\n",
       "    .dataframe thead th {\n",
       "        text-align: right;\n",
       "    }\n",
       "</style>\n",
       "<table border=\"1\" class=\"dataframe\">\n",
       "  <thead>\n",
       "    <tr style=\"text-align: right;\">\n",
       "      <th></th>\n",
       "      <th>city</th>\n",
       "      <th>age</th>\n",
       "    </tr>\n",
       "  </thead>\n",
       "  <tbody>\n",
       "    <tr>\n",
       "      <th>1</th>\n",
       "      <td>Москва</td>\n",
       "      <td>41</td>\n",
       "    </tr>\n",
       "    <tr>\n",
       "      <th>2</th>\n",
       "      <td>Стерлитамак</td>\n",
       "      <td>59</td>\n",
       "    </tr>\n",
       "    <tr>\n",
       "      <th>3</th>\n",
       "      <td>Москва</td>\n",
       "      <td>23</td>\n",
       "    </tr>\n",
       "    <tr>\n",
       "      <th>4</th>\n",
       "      <td>Новокузнецк</td>\n",
       "      <td>68</td>\n",
       "    </tr>\n",
       "    <tr>\n",
       "      <th>5</th>\n",
       "      <td>Набережные Челны</td>\n",
       "      <td>67</td>\n",
       "    </tr>\n",
       "    <tr>\n",
       "      <th>...</th>\n",
       "      <td>...</td>\n",
       "      <td>...</td>\n",
       "    </tr>\n",
       "    <tr>\n",
       "      <th>495</th>\n",
       "      <td>Иркутск</td>\n",
       "      <td>65</td>\n",
       "    </tr>\n",
       "    <tr>\n",
       "      <th>496</th>\n",
       "      <td>Вологда</td>\n",
       "      <td>36</td>\n",
       "    </tr>\n",
       "    <tr>\n",
       "      <th>497</th>\n",
       "      <td>Челябинск</td>\n",
       "      <td>32</td>\n",
       "    </tr>\n",
       "    <tr>\n",
       "      <th>498</th>\n",
       "      <td>Владикавказ</td>\n",
       "      <td>68</td>\n",
       "    </tr>\n",
       "    <tr>\n",
       "      <th>499</th>\n",
       "      <td>Пермь</td>\n",
       "      <td>35</td>\n",
       "    </tr>\n",
       "  </tbody>\n",
       "</table>\n",
       "<p>499 rows × 2 columns</p>\n",
       "</div>"
      ],
      "text/plain": [
       "                 city  age\n",
       "1              Москва   41\n",
       "2         Стерлитамак   59\n",
       "3              Москва   23\n",
       "4         Новокузнецк   68\n",
       "5    Набережные Челны   67\n",
       "..                ...  ...\n",
       "495           Иркутск   65\n",
       "496           Вологда   36\n",
       "497         Челябинск   32\n",
       "498       Владикавказ   68\n",
       "499             Пермь   35\n",
       "\n",
       "[499 rows x 2 columns]"
      ]
     },
     "execution_count": 45,
     "metadata": {},
     "output_type": "execute_result"
    }
   ],
   "source": [
    "df[df['user_id'] > 1000][['city', 'age']]"
   ]
  },
  {
   "cell_type": "markdown",
   "id": "91553635",
   "metadata": {},
   "source": [
    "### срез в DataFrame "
   ]
  },
  {
   "cell_type": "code",
   "execution_count": 50,
   "id": "922455e2",
   "metadata": {},
   "outputs": [
    {
     "data": {
      "text/html": [
       "<div>\n",
       "<style scoped>\n",
       "    .dataframe tbody tr th:only-of-type {\n",
       "        vertical-align: middle;\n",
       "    }\n",
       "\n",
       "    .dataframe tbody tr th {\n",
       "        vertical-align: top;\n",
       "    }\n",
       "\n",
       "    .dataframe thead th {\n",
       "        text-align: right;\n",
       "    }\n",
       "</style>\n",
       "<table border=\"1\" class=\"dataframe\">\n",
       "  <thead>\n",
       "    <tr style=\"text-align: right;\">\n",
       "      <th></th>\n",
       "      <th>user_id</th>\n",
       "      <th>age</th>\n",
       "      <th>city</th>\n",
       "    </tr>\n",
       "  </thead>\n",
       "  <tbody>\n",
       "    <tr>\n",
       "      <th>0</th>\n",
       "      <td>1000</td>\n",
       "      <td>52</td>\n",
       "      <td>Краснодар</td>\n",
       "    </tr>\n",
       "    <tr>\n",
       "      <th>1</th>\n",
       "      <td>1001</td>\n",
       "      <td>41</td>\n",
       "      <td>Москва</td>\n",
       "    </tr>\n",
       "    <tr>\n",
       "      <th>2</th>\n",
       "      <td>1002</td>\n",
       "      <td>59</td>\n",
       "      <td>Стерлитамак</td>\n",
       "    </tr>\n",
       "    <tr>\n",
       "      <th>3</th>\n",
       "      <td>1003</td>\n",
       "      <td>23</td>\n",
       "      <td>Москва</td>\n",
       "    </tr>\n",
       "    <tr>\n",
       "      <th>4</th>\n",
       "      <td>1004</td>\n",
       "      <td>68</td>\n",
       "      <td>Новокузнецк</td>\n",
       "    </tr>\n",
       "  </tbody>\n",
       "</table>\n",
       "</div>"
      ],
      "text/plain": [
       "   user_id  age         city\n",
       "0     1000   52    Краснодар\n",
       "1     1001   41       Москва\n",
       "2     1002   59  Стерлитамак\n",
       "3     1003   23       Москва\n",
       "4     1004   68  Новокузнецк"
      ]
     },
     "metadata": {},
     "output_type": "display_data"
    },
    {
     "data": {
      "text/html": [
       "<div>\n",
       "<style scoped>\n",
       "    .dataframe tbody tr th:only-of-type {\n",
       "        vertical-align: middle;\n",
       "    }\n",
       "\n",
       "    .dataframe tbody tr th {\n",
       "        vertical-align: top;\n",
       "    }\n",
       "\n",
       "    .dataframe thead th {\n",
       "        text-align: right;\n",
       "    }\n",
       "</style>\n",
       "<table border=\"1\" class=\"dataframe\">\n",
       "  <thead>\n",
       "    <tr style=\"text-align: right;\">\n",
       "      <th></th>\n",
       "      <th>user_id</th>\n",
       "      <th>age</th>\n",
       "      <th>city</th>\n",
       "    </tr>\n",
       "  </thead>\n",
       "  <tbody>\n",
       "    <tr>\n",
       "      <th>0</th>\n",
       "      <td>1000</td>\n",
       "      <td>52</td>\n",
       "      <td>Краснодар</td>\n",
       "    </tr>\n",
       "    <tr>\n",
       "      <th>1</th>\n",
       "      <td>1001</td>\n",
       "      <td>41</td>\n",
       "      <td>Москва</td>\n",
       "    </tr>\n",
       "    <tr>\n",
       "      <th>2</th>\n",
       "      <td>1002</td>\n",
       "      <td>59</td>\n",
       "      <td>Стерлитамак</td>\n",
       "    </tr>\n",
       "    <tr>\n",
       "      <th>4</th>\n",
       "      <td>1004</td>\n",
       "      <td>68</td>\n",
       "      <td>Новокузнецк</td>\n",
       "    </tr>\n",
       "    <tr>\n",
       "      <th>5</th>\n",
       "      <td>1005</td>\n",
       "      <td>67</td>\n",
       "      <td>Набережные Челны</td>\n",
       "    </tr>\n",
       "  </tbody>\n",
       "</table>\n",
       "</div>"
      ],
      "text/plain": [
       "   user_id  age              city\n",
       "0     1000   52         Краснодар\n",
       "1     1001   41            Москва\n",
       "2     1002   59       Стерлитамак\n",
       "4     1004   68       Новокузнецк\n",
       "5     1005   67  Набережные Челны"
      ]
     },
     "metadata": {},
     "output_type": "display_data"
    },
    {
     "data": {
      "text/html": [
       "<div>\n",
       "<style scoped>\n",
       "    .dataframe tbody tr th:only-of-type {\n",
       "        vertical-align: middle;\n",
       "    }\n",
       "\n",
       "    .dataframe tbody tr th {\n",
       "        vertical-align: top;\n",
       "    }\n",
       "\n",
       "    .dataframe thead th {\n",
       "        text-align: right;\n",
       "    }\n",
       "</style>\n",
       "<table border=\"1\" class=\"dataframe\">\n",
       "  <thead>\n",
       "    <tr style=\"text-align: right;\">\n",
       "      <th></th>\n",
       "      <th>user_id</th>\n",
       "      <th>age</th>\n",
       "      <th>churn_date</th>\n",
       "      <th>city</th>\n",
       "      <th>first_name</th>\n",
       "      <th>last_name</th>\n",
       "      <th>reg_date</th>\n",
       "      <th>tariff</th>\n",
       "    </tr>\n",
       "  </thead>\n",
       "  <tbody>\n",
       "    <tr>\n",
       "      <th>1</th>\n",
       "      <td>1001</td>\n",
       "      <td>41</td>\n",
       "      <td>NaN</td>\n",
       "      <td>Москва</td>\n",
       "      <td>Иван</td>\n",
       "      <td>Ежов</td>\n",
       "      <td>2018-11-01</td>\n",
       "      <td>smart</td>\n",
       "    </tr>\n",
       "    <tr>\n",
       "      <th>2</th>\n",
       "      <td>1002</td>\n",
       "      <td>59</td>\n",
       "      <td>NaN</td>\n",
       "      <td>Стерлитамак</td>\n",
       "      <td>Евгений</td>\n",
       "      <td>Абрамович</td>\n",
       "      <td>2018-06-17</td>\n",
       "      <td>smart</td>\n",
       "    </tr>\n",
       "    <tr>\n",
       "      <th>3</th>\n",
       "      <td>1003</td>\n",
       "      <td>23</td>\n",
       "      <td>NaN</td>\n",
       "      <td>Москва</td>\n",
       "      <td>Белла</td>\n",
       "      <td>Белякова</td>\n",
       "      <td>2018-08-17</td>\n",
       "      <td>ultra</td>\n",
       "    </tr>\n",
       "    <tr>\n",
       "      <th>4</th>\n",
       "      <td>1004</td>\n",
       "      <td>68</td>\n",
       "      <td>NaN</td>\n",
       "      <td>Новокузнецк</td>\n",
       "      <td>Татьяна</td>\n",
       "      <td>Авдеенко</td>\n",
       "      <td>2018-05-14</td>\n",
       "      <td>ultra</td>\n",
       "    </tr>\n",
       "    <tr>\n",
       "      <th>5</th>\n",
       "      <td>1005</td>\n",
       "      <td>67</td>\n",
       "      <td>NaN</td>\n",
       "      <td>Набережные Челны</td>\n",
       "      <td>Афанасий</td>\n",
       "      <td>Горлов</td>\n",
       "      <td>2018-01-25</td>\n",
       "      <td>smart</td>\n",
       "    </tr>\n",
       "  </tbody>\n",
       "</table>\n",
       "</div>"
      ],
      "text/plain": [
       "   user_id  age churn_date              city first_name  last_name   reg_date  \\\n",
       "1     1001   41        NaN            Москва       Иван       Ежов 2018-11-01   \n",
       "2     1002   59        NaN       Стерлитамак    Евгений  Абрамович 2018-06-17   \n",
       "3     1003   23        NaN            Москва      Белла   Белякова 2018-08-17   \n",
       "4     1004   68        NaN       Новокузнецк    Татьяна   Авдеенко 2018-05-14   \n",
       "5     1005   67        NaN  Набережные Челны   Афанасий     Горлов 2018-01-25   \n",
       "\n",
       "  tariff  \n",
       "1  smart  \n",
       "2  smart  \n",
       "3  ultra  \n",
       "4  ultra  \n",
       "5  smart  "
      ]
     },
     "metadata": {},
     "output_type": "display_data"
    },
    {
     "data": {
      "text/html": [
       "<div>\n",
       "<style scoped>\n",
       "    .dataframe tbody tr th:only-of-type {\n",
       "        vertical-align: middle;\n",
       "    }\n",
       "\n",
       "    .dataframe tbody tr th {\n",
       "        vertical-align: top;\n",
       "    }\n",
       "\n",
       "    .dataframe thead th {\n",
       "        text-align: right;\n",
       "    }\n",
       "</style>\n",
       "<table border=\"1\" class=\"dataframe\">\n",
       "  <thead>\n",
       "    <tr style=\"text-align: right;\">\n",
       "      <th></th>\n",
       "      <th>city</th>\n",
       "      <th>age</th>\n",
       "    </tr>\n",
       "  </thead>\n",
       "  <tbody>\n",
       "    <tr>\n",
       "      <th>1</th>\n",
       "      <td>Москва</td>\n",
       "      <td>41</td>\n",
       "    </tr>\n",
       "    <tr>\n",
       "      <th>2</th>\n",
       "      <td>Стерлитамак</td>\n",
       "      <td>59</td>\n",
       "    </tr>\n",
       "    <tr>\n",
       "      <th>3</th>\n",
       "      <td>Москва</td>\n",
       "      <td>23</td>\n",
       "    </tr>\n",
       "    <tr>\n",
       "      <th>4</th>\n",
       "      <td>Новокузнецк</td>\n",
       "      <td>68</td>\n",
       "    </tr>\n",
       "    <tr>\n",
       "      <th>5</th>\n",
       "      <td>Набережные Челны</td>\n",
       "      <td>67</td>\n",
       "    </tr>\n",
       "  </tbody>\n",
       "</table>\n",
       "</div>"
      ],
      "text/plain": [
       "               city  age\n",
       "1            Москва   41\n",
       "2       Стерлитамак   59\n",
       "3            Москва   23\n",
       "4       Новокузнецк   68\n",
       "5  Набережные Челны   67"
      ]
     },
     "metadata": {},
     "output_type": "display_data"
    }
   ],
   "source": [
    "#если интресует всего пару колонок из таблицы, то можно обратиться к ним следующим образом\n",
    "\n",
    "display(df[['user_id', 'age', 'city']].head())\n",
    "\n",
    "\n",
    "#срез с условием\n",
    "display(df[['user_id', 'age', 'city']].query('age > 30').head())\n",
    "\n",
    "#наложить условие\n",
    "display(df[df['user_id'] > 1000].head())\n",
    "\n",
    "#наложить условие + выбрать определнные столбцы\n",
    "display(df[df['user_id'] > 1000][['city', 'age']].head())"
   ]
  },
  {
   "cell_type": "markdown",
   "id": "9963923a",
   "metadata": {},
   "source": [
    "# полная запись\n",
    "print(data.loc[data['Новая функция'] == '+'])\n",
    "\n",
    "# сокращённая запись\n",
    "print(data[data['Новая функция'] == '+'])  \n",
    "\n",
    "\n",
    "\n",
    "Сокращённая запись вам уже встречалась, но в этом уроке мы специально про неё не говорили, чтобы вас не запутать. Её применение ограничено:\n",
    "Если мы передаем только условие (как в примере выше), то можно использовать любую из двух записей, они идентичны. Логические операторы тоже можно использовать.\n",
    "Если мы хотим указать и условие, и столбец, подойдет только полная запись с loc.\n",
    "Если мы хотим изменить значения в таблице, подойдет только полная запись с loc."
   ]
  },
  {
   "cell_type": "markdown",
   "id": "169f8f5f",
   "metadata": {},
   "source": [
    "### типы данных\n"
   ]
  },
  {
   "cell_type": "code",
   "execution_count": 62,
   "id": "86d3058a",
   "metadata": {},
   "outputs": [
    {
     "data": {
      "text/html": [
       "<div>\n",
       "<style scoped>\n",
       "    .dataframe tbody tr th:only-of-type {\n",
       "        vertical-align: middle;\n",
       "    }\n",
       "\n",
       "    .dataframe tbody tr th {\n",
       "        vertical-align: top;\n",
       "    }\n",
       "\n",
       "    .dataframe thead th {\n",
       "        text-align: right;\n",
       "    }\n",
       "</style>\n",
       "<table border=\"1\" class=\"dataframe\">\n",
       "  <thead>\n",
       "    <tr style=\"text-align: right;\">\n",
       "      <th></th>\n",
       "      <th>user_id</th>\n",
       "      <th>age</th>\n",
       "      <th>churn_date</th>\n",
       "      <th>city</th>\n",
       "      <th>first_name</th>\n",
       "      <th>last_name</th>\n",
       "      <th>reg_date</th>\n",
       "      <th>tariff</th>\n",
       "      <th>weekday</th>\n",
       "      <th>month</th>\n",
       "      <th>year</th>\n",
       "    </tr>\n",
       "  </thead>\n",
       "  <tbody>\n",
       "    <tr>\n",
       "      <th>0</th>\n",
       "      <td>1000</td>\n",
       "      <td>52</td>\n",
       "      <td>NaN</td>\n",
       "      <td>Краснодар</td>\n",
       "      <td>Рафаил</td>\n",
       "      <td>Верещагин</td>\n",
       "      <td>2018-05-25</td>\n",
       "      <td>ultra</td>\n",
       "      <td>4</td>\n",
       "      <td>5</td>\n",
       "      <td>2018</td>\n",
       "    </tr>\n",
       "    <tr>\n",
       "      <th>1</th>\n",
       "      <td>1001</td>\n",
       "      <td>41</td>\n",
       "      <td>NaN</td>\n",
       "      <td>Москва</td>\n",
       "      <td>Иван</td>\n",
       "      <td>Ежов</td>\n",
       "      <td>2018-11-01</td>\n",
       "      <td>smart</td>\n",
       "      <td>3</td>\n",
       "      <td>11</td>\n",
       "      <td>2018</td>\n",
       "    </tr>\n",
       "    <tr>\n",
       "      <th>2</th>\n",
       "      <td>1002</td>\n",
       "      <td>59</td>\n",
       "      <td>NaN</td>\n",
       "      <td>Стерлитамак</td>\n",
       "      <td>Евгений</td>\n",
       "      <td>Абрамович</td>\n",
       "      <td>2018-06-17</td>\n",
       "      <td>smart</td>\n",
       "      <td>6</td>\n",
       "      <td>6</td>\n",
       "      <td>2018</td>\n",
       "    </tr>\n",
       "    <tr>\n",
       "      <th>3</th>\n",
       "      <td>1003</td>\n",
       "      <td>23</td>\n",
       "      <td>NaN</td>\n",
       "      <td>Москва</td>\n",
       "      <td>Белла</td>\n",
       "      <td>Белякова</td>\n",
       "      <td>2018-08-17</td>\n",
       "      <td>ultra</td>\n",
       "      <td>4</td>\n",
       "      <td>8</td>\n",
       "      <td>2018</td>\n",
       "    </tr>\n",
       "    <tr>\n",
       "      <th>4</th>\n",
       "      <td>1004</td>\n",
       "      <td>68</td>\n",
       "      <td>NaN</td>\n",
       "      <td>Новокузнецк</td>\n",
       "      <td>Татьяна</td>\n",
       "      <td>Авдеенко</td>\n",
       "      <td>2018-05-14</td>\n",
       "      <td>ultra</td>\n",
       "      <td>0</td>\n",
       "      <td>5</td>\n",
       "      <td>2018</td>\n",
       "    </tr>\n",
       "  </tbody>\n",
       "</table>\n",
       "</div>"
      ],
      "text/plain": [
       "   user_id  age churn_date         city first_name  last_name   reg_date  \\\n",
       "0     1000   52        NaN    Краснодар     Рафаил  Верещагин 2018-05-25   \n",
       "1     1001   41        NaN       Москва       Иван       Ежов 2018-11-01   \n",
       "2     1002   59        NaN  Стерлитамак    Евгений  Абрамович 2018-06-17   \n",
       "3     1003   23        NaN       Москва      Белла   Белякова 2018-08-17   \n",
       "4     1004   68        NaN  Новокузнецк    Татьяна   Авдеенко 2018-05-14   \n",
       "\n",
       "  tariff  weekday  month  year  \n",
       "0  ultra        4      5  2018  \n",
       "1  smart        3     11  2018  \n",
       "2  smart        6      6  2018  \n",
       "3  ultra        4      8  2018  \n",
       "4  ultra        0      5  2018  "
      ]
     },
     "execution_count": 62,
     "metadata": {},
     "output_type": "execute_result"
    }
   ],
   "source": [
    "#обрабатываем дату в формат datetime\n",
    "\n",
    "df['reg_date']=pd.to_datetime(\n",
    "    df['reg_date'], format='%Y-%m-%d'\n",
    ")\n",
    "\n",
    "# добавим столбцы в таблицу с днем недели, месяцем и годом публикации\n",
    "df['weekday'] = df['reg_date'].dt.weekday\n",
    "df['month'] = df['reg_date'].dt.month\n",
    "df['year'] = df['reg_date'].dt.year\n",
    "\n",
    "df.head()     \n"
   ]
  },
  {
   "cell_type": "markdown",
   "id": "fb52c76e",
   "metadata": {},
   "source": [
    "- в вещественный тип переводим методом pd.to_numeric(), либо data['column'].astype('float')\n",
    "- целочисленный тип data['column'].astype('int')\n",
    "- булевый тип data['column'].astype('bool')\n",
    "- строки data['column'].astype('str')\n"
   ]
  },
  {
   "cell_type": "markdown",
   "id": "404fea26",
   "metadata": {},
   "source": [
    "### Обработка пустых строк"
   ]
  },
  {
   "cell_type": "code",
   "execution_count": 137,
   "id": "b69f43c1",
   "metadata": {},
   "outputs": [
    {
     "name": "stdout",
     "output_type": "stream",
     "text": [
      "Количество пропусков в столбце churn_date равно: 462,\n",
      "что составляет 92.40% от общего количества churn_date \n",
      "\n"
     ]
    }
   ],
   "source": [
    "#цикл проходит по всем столбцам и выводит количество пропусков, если они есть\n",
    "\n",
    "for column in df.columns:\n",
    "    cnt_nan=len(df[df[column].isna()])\n",
    "    if cnt_nan != 0:\n",
    "        print(f'Количество пропусков в столбце {column} равно: {cnt_nan},')\n",
    "        print(f'что составляет {cnt_nan/len(df):,.2%} от общего количества {column} \\n')"
   ]
  },
  {
   "cell_type": "markdown",
   "id": "8ec50b3a",
   "metadata": {},
   "source": [
    "Пропуски ищем методом isna()"
   ]
  },
  {
   "cell_type": "code",
   "execution_count": 52,
   "id": "01b3e570",
   "metadata": {
    "scrolled": true
   },
   "outputs": [
    {
     "data": {
      "text/plain": [
       "0      False\n",
       "1      False\n",
       "2      False\n",
       "3      False\n",
       "4      False\n",
       "       ...  \n",
       "495    False\n",
       "496    False\n",
       "497    False\n",
       "498    False\n",
       "499    False\n",
       "Name: age, Length: 500, dtype: bool"
      ]
     },
     "execution_count": 52,
     "metadata": {},
     "output_type": "execute_result"
    }
   ],
   "source": [
    "df['age'].isna()"
   ]
  },
  {
   "cell_type": "markdown",
   "id": "b0310abb",
   "metadata": {},
   "source": [
    "Кол-во пропусков считаем len от дата фрейма, а не сириес"
   ]
  },
  {
   "cell_type": "code",
   "execution_count": 54,
   "id": "56ab9797",
   "metadata": {},
   "outputs": [
    {
     "data": {
      "text/plain": [
       "0"
      ]
     },
     "execution_count": 54,
     "metadata": {},
     "output_type": "execute_result"
    }
   ],
   "source": [
    "len(df[df['age'].isna()])"
   ]
  },
  {
   "cell_type": "markdown",
   "id": "aa3fa48a",
   "metadata": {},
   "source": [
    "Заполнение пропусков осуществляется методом .fillna(), где в .fillna() передается любая переменная, которой необходимо заменить пустые значения"
   ]
  },
  {
   "cell_type": "markdown",
   "id": "5cd1c1de",
   "metadata": {},
   "source": [
    "### List comprehension генератора списка или списковое включение"
   ]
  },
  {
   "attachments": {
    "image.png": {
     "image/png": "[encoded data removed]"
    }
   },
   "cell_type": "markdown",
   "id": "eb116ec4",
   "metadata": {},
   "source": [
    "![image.png](attachment:image.png)"
   ]
  },
  {
   "cell_type": "markdown",
   "id": "b506e10e",
   "metadata": {},
   "source": [
    "новый_список = [«операция» for «элемент списка» in «список»]"
   ]
  },
  {
   "cell_type": "code",
   "execution_count": 1,
   "id": "3044c775",
   "metadata": {
    "scrolled": true
   },
   "outputs": [
    {
     "name": "stdout",
     "output_type": "stream",
     "text": [
      "[102, 467, 348, 841]\n"
     ]
    }
   ],
   "source": [
    "old_prices = [120, 550, 410, 990]  # Исходный список цен на товары в рублях\n",
    "discount = 0.15  # Скидка в 15 %\n",
    "new_prices = [int(product * (1 - discount)) for product in old_prices]  # Вычисляем новые цены (без учета копеек)\n",
    "print(new_prices)  # [102, 467, 348, 841]"
   ]
  },
  {
   "cell_type": "markdown",
   "id": "ef722573",
   "metadata": {},
   "source": [
    "### **Методы словаря** dict и поддерживаемые операции"
   ]
  },
  {
   "cell_type": "code",
   "execution_count": null,
   "id": "23c8eb36",
   "metadata": {},
   "outputs": [],
   "source": [
    "- Представления словарей dict.keys(), dict.values() и dict.items() в Python.\n",
    "- Получение списка ключей словаря list(dict) в Python\n",
    "- Количество элементов в словаре len(dict) в Python\n",
    "- Доступ к значению словаря по ключу dict[key] в Python."
   ]
  },
  {
   "cell_type": "code",
   "execution_count": null,
   "id": "e06b4bdb",
   "metadata": {},
   "outputs": [],
   "source": []
  },
  {
   "cell_type": "markdown",
   "id": "9269b388",
   "metadata": {},
   "source": [
    "## Немного о функциях"
   ]
  },
  {
   "cell_type": "markdown",
   "id": "5ba09108",
   "metadata": {},
   "source": [
    "**Виды параметров функций:**\n",
    " \n",
    "- позиционные, \n",
    "- строго позиционные, \n",
    "- ключевые,\n",
    "- строго ключевые.\n",
    "\n",
    "/ строго позиционные  \n",
    "def my_func(a, b, /):  \n",
    "    print(a, b)  \n",
    "\n",
    " \"*\" строго ключевые   \n",
    "def my_func(*, a=5, b=10):  \n",
    "    print(a, b)  \n",
    "\n",
    "- Неограниченное количество позиционных аргументов используют конструкцию *args\n",
    "- Неограниченное число ключевых параметров задается инструкцией **kwargs.   "
   ]
  },
  {
   "cell_type": "code",
   "execution_count": 8,
   "id": "15160c51",
   "metadata": {},
   "outputs": [
    {
     "name": "stdout",
     "output_type": "stream",
     "text": [
      "5 10\n",
      "2 3\n",
      "10 1\n"
     ]
    }
   ],
   "source": [
    "def my_func(*, a=5, b=10):\n",
    "    print(a, b)\n",
    "\n",
    "my_func()\n",
    "my_func(a=2, b=3)\n",
    "my_func(b=1, a=10)\n",
    "#my_func(7, b=1, a=10)"
   ]
  },
  {
   "cell_type": "markdown",
   "id": "7e345e85",
   "metadata": {},
   "source": [
    "### lambda"
   ]
  },
  {
   "cell_type": "markdown",
   "id": "45ecbe6c",
   "metadata": {},
   "source": [
    "Лямбда-выражения – простые анонимные функции, требуемые на короткое время. Они могут иметь любое количество параметров и возвращать некое значение (в том числе None).\n",
    "\n",
    "Пример – Интерактивный режим\n",
    "lambda x, y: x + y\n",
    "\n",
    "Данная функция принимает два параметра и возвращает их сумму."
   ]
  },
  {
   "cell_type": "markdown",
   "id": "5cb3961f",
   "metadata": {},
   "source": [
    "### Методы класса time. Функции времени"
   ]
  },
  {
   "cell_type": "markdown",
   "id": "beefc172",
   "metadata": {},
   "source": [
    "- Функция **time.perf_counter()** возвращает значение часов с наибольшим доступным разрешением.\n",
    "- Функция **time.perf_counter_ns()** похожа на time.perf_counter(), но возвращает время в наносекундах. Работает не на всех платформах."
   ]
  },
  {
   "cell_type": "markdown",
   "id": "18acc2a0",
   "metadata": {},
   "source": [
    "Пример измерения времени выполнения (производительности) скрипта"
   ]
  },
  {
   "cell_type": "code",
   "execution_count": 2,
   "id": "082c76d9",
   "metadata": {},
   "outputs": [
    {
     "data": {
      "text/plain": [
       "0.9968186999999489"
      ]
     },
     "execution_count": 2,
     "metadata": {},
     "output_type": "execute_result"
    }
   ],
   "source": [
    "import time\n",
    "# засекаем время начала работы скрипта \n",
    "# или куска кода\n",
    "t_start = time.perf_counter()\n",
    "# здесь код, время/производительность \n",
    "# которого необходимо замерить\n",
    "time.sleep(1)\n",
    "# засекаем время окончания работы скрипта\n",
    "# или куска кода\n",
    "all_time = time.perf_counter() - t_start\n",
    "all_time"
   ]
  },
  {
   "cell_type": "markdown",
   "id": "2b1b7b7a",
   "metadata": {},
   "source": [
    "### Отображение(нахождение) кода функции inspect.getsource "
   ]
  },
  {
   "cell_type": "code",
   "execution_count": 3,
   "id": "2516e61b",
   "metadata": {},
   "outputs": [
    {
     "name": "stdout",
     "output_type": "stream",
     "text": [
      "def some_function(*args):\n",
      "    return sum(args) // 10\n",
      "\n"
     ]
    }
   ],
   "source": [
    "import inspect\n",
    "\n",
    "def some_function(*args):\n",
    "    return sum(args) // 10\n",
    "\n",
    "print(inspect.getsource(some_function))\n"
   ]
  },
  {
   "cell_type": "code",
   "execution_count": 4,
   "id": "ec599927",
   "metadata": {},
   "outputs": [],
   "source": [
    "#ЛИБО\n",
    "\n",
    "some_function??"
   ]
  },
  {
   "cell_type": "code",
   "execution_count": null,
   "id": "16cbf5a7",
   "metadata": {},
   "outputs": [],
   "source": []
  },
  {
   "cell_type": "code",
   "execution_count": null,
   "id": "d22b1af9",
   "metadata": {},
   "outputs": [],
   "source": []
  },
  {
   "cell_type": "markdown",
   "id": "c6bf53c6",
   "metadata": {},
   "source": [
    "## Исследовательский анализ"
   ]
  },
  {
   "cell_type": "markdown",
   "id": "32e2e92f",
   "metadata": {},
   "source": [
    "### **Группировки groupby и pivot_table**"
   ]
  },
  {
   "cell_type": "code",
   "execution_count": 63,
   "id": "85616db9",
   "metadata": {},
   "outputs": [
    {
     "data": {
      "text/html": [
       "<div>\n",
       "<style scoped>\n",
       "    .dataframe tbody tr th:only-of-type {\n",
       "        vertical-align: middle;\n",
       "    }\n",
       "\n",
       "    .dataframe tbody tr th {\n",
       "        vertical-align: top;\n",
       "    }\n",
       "\n",
       "    .dataframe thead th {\n",
       "        text-align: right;\n",
       "    }\n",
       "</style>\n",
       "<table border=\"1\" class=\"dataframe\">\n",
       "  <thead>\n",
       "    <tr style=\"text-align: right;\">\n",
       "      <th></th>\n",
       "      <th>user_id</th>\n",
       "      <th>age</th>\n",
       "      <th>churn_date</th>\n",
       "      <th>city</th>\n",
       "      <th>first_name</th>\n",
       "      <th>last_name</th>\n",
       "      <th>reg_date</th>\n",
       "      <th>tariff</th>\n",
       "      <th>weekday</th>\n",
       "      <th>month</th>\n",
       "      <th>year</th>\n",
       "    </tr>\n",
       "  </thead>\n",
       "  <tbody>\n",
       "    <tr>\n",
       "      <th>0</th>\n",
       "      <td>1000</td>\n",
       "      <td>52</td>\n",
       "      <td>NaN</td>\n",
       "      <td>Краснодар</td>\n",
       "      <td>Рафаил</td>\n",
       "      <td>Верещагин</td>\n",
       "      <td>2018-05-25</td>\n",
       "      <td>ultra</td>\n",
       "      <td>4</td>\n",
       "      <td>5</td>\n",
       "      <td>2018</td>\n",
       "    </tr>\n",
       "    <tr>\n",
       "      <th>1</th>\n",
       "      <td>1001</td>\n",
       "      <td>41</td>\n",
       "      <td>NaN</td>\n",
       "      <td>Москва</td>\n",
       "      <td>Иван</td>\n",
       "      <td>Ежов</td>\n",
       "      <td>2018-11-01</td>\n",
       "      <td>smart</td>\n",
       "      <td>3</td>\n",
       "      <td>11</td>\n",
       "      <td>2018</td>\n",
       "    </tr>\n",
       "    <tr>\n",
       "      <th>2</th>\n",
       "      <td>1002</td>\n",
       "      <td>59</td>\n",
       "      <td>NaN</td>\n",
       "      <td>Стерлитамак</td>\n",
       "      <td>Евгений</td>\n",
       "      <td>Абрамович</td>\n",
       "      <td>2018-06-17</td>\n",
       "      <td>smart</td>\n",
       "      <td>6</td>\n",
       "      <td>6</td>\n",
       "      <td>2018</td>\n",
       "    </tr>\n",
       "    <tr>\n",
       "      <th>3</th>\n",
       "      <td>1003</td>\n",
       "      <td>23</td>\n",
       "      <td>NaN</td>\n",
       "      <td>Москва</td>\n",
       "      <td>Белла</td>\n",
       "      <td>Белякова</td>\n",
       "      <td>2018-08-17</td>\n",
       "      <td>ultra</td>\n",
       "      <td>4</td>\n",
       "      <td>8</td>\n",
       "      <td>2018</td>\n",
       "    </tr>\n",
       "    <tr>\n",
       "      <th>4</th>\n",
       "      <td>1004</td>\n",
       "      <td>68</td>\n",
       "      <td>NaN</td>\n",
       "      <td>Новокузнецк</td>\n",
       "      <td>Татьяна</td>\n",
       "      <td>Авдеенко</td>\n",
       "      <td>2018-05-14</td>\n",
       "      <td>ultra</td>\n",
       "      <td>0</td>\n",
       "      <td>5</td>\n",
       "      <td>2018</td>\n",
       "    </tr>\n",
       "  </tbody>\n",
       "</table>\n",
       "</div>"
      ],
      "text/plain": [
       "   user_id  age churn_date         city first_name  last_name   reg_date  \\\n",
       "0     1000   52        NaN    Краснодар     Рафаил  Верещагин 2018-05-25   \n",
       "1     1001   41        NaN       Москва       Иван       Ежов 2018-11-01   \n",
       "2     1002   59        NaN  Стерлитамак    Евгений  Абрамович 2018-06-17   \n",
       "3     1003   23        NaN       Москва      Белла   Белякова 2018-08-17   \n",
       "4     1004   68        NaN  Новокузнецк    Татьяна   Авдеенко 2018-05-14   \n",
       "\n",
       "  tariff  weekday  month  year  \n",
       "0  ultra        4      5  2018  \n",
       "1  smart        3     11  2018  \n",
       "2  smart        6      6  2018  \n",
       "3  ultra        4      8  2018  \n",
       "4  ultra        0      5  2018  "
      ]
     },
     "execution_count": 63,
     "metadata": {},
     "output_type": "execute_result"
    }
   ],
   "source": [
    "df.head()"
   ]
  },
  {
   "cell_type": "code",
   "execution_count": 70,
   "id": "577c586c",
   "metadata": {},
   "outputs": [
    {
     "data": {
      "text/html": [
       "<div>\n",
       "<style scoped>\n",
       "    .dataframe tbody tr th:only-of-type {\n",
       "        vertical-align: middle;\n",
       "    }\n",
       "\n",
       "    .dataframe tbody tr th {\n",
       "        vertical-align: top;\n",
       "    }\n",
       "\n",
       "    .dataframe thead th {\n",
       "        text-align: right;\n",
       "    }\n",
       "</style>\n",
       "<table border=\"1\" class=\"dataframe\">\n",
       "  <thead>\n",
       "    <tr style=\"text-align: right;\">\n",
       "      <th></th>\n",
       "      <th>city</th>\n",
       "      <th>cnt</th>\n",
       "      <th>sum_weekday</th>\n",
       "      <th>median_age</th>\n",
       "    </tr>\n",
       "  </thead>\n",
       "  <tbody>\n",
       "    <tr>\n",
       "      <th>34</th>\n",
       "      <td>Нижневартовск</td>\n",
       "      <td>1</td>\n",
       "      <td>6</td>\n",
       "      <td>18.0</td>\n",
       "    </tr>\n",
       "    <tr>\n",
       "      <th>69</th>\n",
       "      <td>Химки</td>\n",
       "      <td>1</td>\n",
       "      <td>1</td>\n",
       "      <td>20.0</td>\n",
       "    </tr>\n",
       "    <tr>\n",
       "      <th>60</th>\n",
       "      <td>Тверь</td>\n",
       "      <td>3</td>\n",
       "      <td>5</td>\n",
       "      <td>22.0</td>\n",
       "    </tr>\n",
       "    <tr>\n",
       "      <th>54</th>\n",
       "      <td>Смоленск</td>\n",
       "      <td>2</td>\n",
       "      <td>4</td>\n",
       "      <td>28.0</td>\n",
       "    </tr>\n",
       "    <tr>\n",
       "      <th>22</th>\n",
       "      <td>Киров</td>\n",
       "      <td>6</td>\n",
       "      <td>27</td>\n",
       "      <td>33.5</td>\n",
       "    </tr>\n",
       "  </tbody>\n",
       "</table>\n",
       "</div>"
      ],
      "text/plain": [
       "             city  cnt  sum_weekday  median_age\n",
       "34  Нижневартовск    1            6        18.0\n",
       "69          Химки    1            1        20.0\n",
       "60          Тверь    3            5        22.0\n",
       "54       Смоленск    2            4        28.0\n",
       "22          Киров    6           27        33.5"
      ]
     },
     "execution_count": 70,
     "metadata": {},
     "output_type": "execute_result"
    }
   ],
   "source": [
    "(\n",
    "    df.groupby('city', as_index=False).agg(cnt=('user_id', 'count'), \n",
    "                                           sum_weekday=('weekday', 'sum'),\n",
    "                                           median_age=('age', 'median')\n",
    "                                          ).sort_values(by='median_age').head()\n",
    ")"
   ]
  },
  {
   "cell_type": "code",
   "execution_count": 73,
   "id": "a686c1f2",
   "metadata": {
    "scrolled": true
   },
   "outputs": [
    {
     "data": {
      "text/html": [
       "<div>\n",
       "<style scoped>\n",
       "    .dataframe tbody tr th:only-of-type {\n",
       "        vertical-align: middle;\n",
       "    }\n",
       "\n",
       "    .dataframe tbody tr th {\n",
       "        vertical-align: top;\n",
       "    }\n",
       "\n",
       "    .dataframe thead th {\n",
       "        text-align: right;\n",
       "    }\n",
       "</style>\n",
       "<table border=\"1\" class=\"dataframe\">\n",
       "  <thead>\n",
       "    <tr style=\"text-align: right;\">\n",
       "      <th></th>\n",
       "      <th>city</th>\n",
       "      <th>user_id</th>\n",
       "    </tr>\n",
       "  </thead>\n",
       "  <tbody>\n",
       "    <tr>\n",
       "      <th>0</th>\n",
       "      <td>Архангельск</td>\n",
       "      <td>1</td>\n",
       "    </tr>\n",
       "    <tr>\n",
       "      <th>1</th>\n",
       "      <td>Астрахань</td>\n",
       "      <td>4</td>\n",
       "    </tr>\n",
       "    <tr>\n",
       "      <th>2</th>\n",
       "      <td>Балашиха</td>\n",
       "      <td>5</td>\n",
       "    </tr>\n",
       "    <tr>\n",
       "      <th>3</th>\n",
       "      <td>Барнаул</td>\n",
       "      <td>3</td>\n",
       "    </tr>\n",
       "    <tr>\n",
       "      <th>4</th>\n",
       "      <td>Белгород</td>\n",
       "      <td>2</td>\n",
       "    </tr>\n",
       "  </tbody>\n",
       "</table>\n",
       "</div>"
      ],
      "text/plain": [
       "          city  user_id\n",
       "0  Архангельск        1\n",
       "1    Астрахань        4\n",
       "2     Балашиха        5\n",
       "3      Барнаул        3\n",
       "4     Белгород        2"
      ]
     },
     "execution_count": 73,
     "metadata": {},
     "output_type": "execute_result"
    }
   ],
   "source": [
    "(\n",
    "    df.pivot_table(index='city', values='user_id', aggfunc='count').reset_index().head()\n",
    ")"
   ]
  },
  {
   "cell_type": "code",
   "execution_count": 74,
   "id": "eebe8036",
   "metadata": {},
   "outputs": [
    {
     "data": {
      "text/html": [
       "<div>\n",
       "<style scoped>\n",
       "    .dataframe tbody tr th:only-of-type {\n",
       "        vertical-align: middle;\n",
       "    }\n",
       "\n",
       "    .dataframe tbody tr th {\n",
       "        vertical-align: top;\n",
       "    }\n",
       "\n",
       "    .dataframe thead th {\n",
       "        text-align: right;\n",
       "    }\n",
       "</style>\n",
       "<table border=\"1\" class=\"dataframe\">\n",
       "  <thead>\n",
       "    <tr style=\"text-align: right;\">\n",
       "      <th>tariff</th>\n",
       "      <th>city</th>\n",
       "      <th>smart</th>\n",
       "      <th>ultra</th>\n",
       "    </tr>\n",
       "  </thead>\n",
       "  <tbody>\n",
       "    <tr>\n",
       "      <th>0</th>\n",
       "      <td>Архангельск</td>\n",
       "      <td>1.0</td>\n",
       "      <td>NaN</td>\n",
       "    </tr>\n",
       "    <tr>\n",
       "      <th>1</th>\n",
       "      <td>Астрахань</td>\n",
       "      <td>3.0</td>\n",
       "      <td>1.0</td>\n",
       "    </tr>\n",
       "    <tr>\n",
       "      <th>2</th>\n",
       "      <td>Балашиха</td>\n",
       "      <td>4.0</td>\n",
       "      <td>1.0</td>\n",
       "    </tr>\n",
       "    <tr>\n",
       "      <th>3</th>\n",
       "      <td>Барнаул</td>\n",
       "      <td>2.0</td>\n",
       "      <td>1.0</td>\n",
       "    </tr>\n",
       "    <tr>\n",
       "      <th>4</th>\n",
       "      <td>Белгород</td>\n",
       "      <td>2.0</td>\n",
       "      <td>NaN</td>\n",
       "    </tr>\n",
       "  </tbody>\n",
       "</table>\n",
       "</div>"
      ],
      "text/plain": [
       "tariff         city  smart  ultra\n",
       "0       Архангельск    1.0    NaN\n",
       "1         Астрахань    3.0    1.0\n",
       "2          Балашиха    4.0    1.0\n",
       "3           Барнаул    2.0    1.0\n",
       "4          Белгород    2.0    NaN"
      ]
     },
     "execution_count": 74,
     "metadata": {},
     "output_type": "execute_result"
    }
   ],
   "source": [
    "(\n",
    "    df.pivot_table(index='city', columns='tariff', values='user_id', aggfunc='count').reset_index().head()\n",
    ")"
   ]
  },
  {
   "cell_type": "markdown",
   "id": "63dd21bf",
   "metadata": {},
   "source": [
    "### Проверка наличия элементов списка lst в столбце"
   ]
  },
  {
   "cell_type": "code",
   "execution_count": 77,
   "id": "d55ab24a",
   "metadata": {
    "scrolled": true
   },
   "outputs": [
    {
     "data": {
      "text/html": [
       "<div>\n",
       "<style scoped>\n",
       "    .dataframe tbody tr th:only-of-type {\n",
       "        vertical-align: middle;\n",
       "    }\n",
       "\n",
       "    .dataframe tbody tr th {\n",
       "        vertical-align: top;\n",
       "    }\n",
       "\n",
       "    .dataframe thead th {\n",
       "        text-align: right;\n",
       "    }\n",
       "</style>\n",
       "<table border=\"1\" class=\"dataframe\">\n",
       "  <thead>\n",
       "    <tr style=\"text-align: right;\">\n",
       "      <th></th>\n",
       "      <th>user_id</th>\n",
       "      <th>age</th>\n",
       "      <th>churn_date</th>\n",
       "      <th>city</th>\n",
       "      <th>first_name</th>\n",
       "      <th>last_name</th>\n",
       "      <th>reg_date</th>\n",
       "      <th>tariff</th>\n",
       "      <th>weekday</th>\n",
       "      <th>month</th>\n",
       "      <th>year</th>\n",
       "    </tr>\n",
       "  </thead>\n",
       "  <tbody>\n",
       "    <tr>\n",
       "      <th>1</th>\n",
       "      <td>1001</td>\n",
       "      <td>41</td>\n",
       "      <td>NaN</td>\n",
       "      <td>Москва</td>\n",
       "      <td>Иван</td>\n",
       "      <td>Ежов</td>\n",
       "      <td>2018-11-01</td>\n",
       "      <td>smart</td>\n",
       "      <td>3</td>\n",
       "      <td>11</td>\n",
       "      <td>2018</td>\n",
       "    </tr>\n",
       "    <tr>\n",
       "      <th>443</th>\n",
       "      <td>1443</td>\n",
       "      <td>21</td>\n",
       "      <td>NaN</td>\n",
       "      <td>Казань</td>\n",
       "      <td>Иван</td>\n",
       "      <td>Афинин</td>\n",
       "      <td>2018-09-17</td>\n",
       "      <td>smart</td>\n",
       "      <td>0</td>\n",
       "      <td>9</td>\n",
       "      <td>2018</td>\n",
       "    </tr>\n",
       "    <tr>\n",
       "      <th>468</th>\n",
       "      <td>1468</td>\n",
       "      <td>29</td>\n",
       "      <td>NaN</td>\n",
       "      <td>Тамбов</td>\n",
       "      <td>Иван</td>\n",
       "      <td>Авдышев</td>\n",
       "      <td>2018-02-11</td>\n",
       "      <td>smart</td>\n",
       "      <td>6</td>\n",
       "      <td>2</td>\n",
       "      <td>2018</td>\n",
       "    </tr>\n",
       "  </tbody>\n",
       "</table>\n",
       "</div>"
      ],
      "text/plain": [
       "     user_id  age churn_date    city first_name last_name   reg_date tariff  \\\n",
       "1       1001   41        NaN  Москва       Иван      Ежов 2018-11-01  smart   \n",
       "443     1443   21        NaN  Казань       Иван    Афинин 2018-09-17  smart   \n",
       "468     1468   29        NaN  Тамбов       Иван   Авдышев 2018-02-11  smart   \n",
       "\n",
       "     weekday  month  year  \n",
       "1          3     11  2018  \n",
       "443        0      9  2018  \n",
       "468        6      2  2018  "
      ]
     },
     "execution_count": 77,
     "metadata": {},
     "output_type": "execute_result"
    }
   ],
   "source": [
    "lst=['Иван']\n",
    "df['first_name'].isin(lst)\n",
    "df[df['first_name'].isin(lst)]"
   ]
  },
  {
   "cell_type": "markdown",
   "id": "101d31a4",
   "metadata": {},
   "source": [
    "### Вычисление коэффициента корреляции Пирсона"
   ]
  },
  {
   "cell_type": "code",
   "execution_count": 83,
   "id": "c3e6affd",
   "metadata": {
    "scrolled": true
   },
   "outputs": [
    {
     "name": "stdout",
     "output_type": "stream",
     "text": [
      "-0.009199647343519893\n",
      "-0.009199647343519893\n"
     ]
    }
   ],
   "source": [
    "print(df['age'].corr(df['month']))\n",
    "# или\n",
    "print(df['month'].corr(df['age']))"
   ]
  },
  {
   "cell_type": "code",
   "execution_count": 82,
   "id": "35fbd7a8",
   "metadata": {},
   "outputs": [
    {
     "data": {
      "text/html": [
       "<div>\n",
       "<style scoped>\n",
       "    .dataframe tbody tr th:only-of-type {\n",
       "        vertical-align: middle;\n",
       "    }\n",
       "\n",
       "    .dataframe tbody tr th {\n",
       "        vertical-align: top;\n",
       "    }\n",
       "\n",
       "    .dataframe thead th {\n",
       "        text-align: right;\n",
       "    }\n",
       "</style>\n",
       "<table border=\"1\" class=\"dataframe\">\n",
       "  <thead>\n",
       "    <tr style=\"text-align: right;\">\n",
       "      <th></th>\n",
       "      <th>user_id</th>\n",
       "      <th>age</th>\n",
       "      <th>weekday</th>\n",
       "      <th>month</th>\n",
       "      <th>year</th>\n",
       "    </tr>\n",
       "  </thead>\n",
       "  <tbody>\n",
       "    <tr>\n",
       "      <th>user_id</th>\n",
       "      <td>1.000000</td>\n",
       "      <td>-0.032299</td>\n",
       "      <td>-0.044294</td>\n",
       "      <td>-0.026245</td>\n",
       "      <td>NaN</td>\n",
       "    </tr>\n",
       "    <tr>\n",
       "      <th>age</th>\n",
       "      <td>-0.032299</td>\n",
       "      <td>1.000000</td>\n",
       "      <td>0.019152</td>\n",
       "      <td>-0.009200</td>\n",
       "      <td>NaN</td>\n",
       "    </tr>\n",
       "    <tr>\n",
       "      <th>weekday</th>\n",
       "      <td>-0.044294</td>\n",
       "      <td>0.019152</td>\n",
       "      <td>1.000000</td>\n",
       "      <td>0.093323</td>\n",
       "      <td>NaN</td>\n",
       "    </tr>\n",
       "    <tr>\n",
       "      <th>month</th>\n",
       "      <td>-0.026245</td>\n",
       "      <td>-0.009200</td>\n",
       "      <td>0.093323</td>\n",
       "      <td>1.000000</td>\n",
       "      <td>NaN</td>\n",
       "    </tr>\n",
       "    <tr>\n",
       "      <th>year</th>\n",
       "      <td>NaN</td>\n",
       "      <td>NaN</td>\n",
       "      <td>NaN</td>\n",
       "      <td>NaN</td>\n",
       "      <td>NaN</td>\n",
       "    </tr>\n",
       "  </tbody>\n",
       "</table>\n",
       "</div>"
      ],
      "text/plain": [
       "          user_id       age   weekday     month  year\n",
       "user_id  1.000000 -0.032299 -0.044294 -0.026245   NaN\n",
       "age     -0.032299  1.000000  0.019152 -0.009200   NaN\n",
       "weekday -0.044294  0.019152  1.000000  0.093323   NaN\n",
       "month   -0.026245 -0.009200  0.093323  1.000000   NaN\n",
       "year          NaN       NaN       NaN       NaN   NaN"
      ]
     },
     "execution_count": 82,
     "metadata": {},
     "output_type": "execute_result"
    }
   ],
   "source": [
    "df.corr()"
   ]
  },
  {
   "cell_type": "markdown",
   "id": "d53b4f7e",
   "metadata": {},
   "source": [
    "Коэффициент корреляции Пирсона\n",
    "число от -1 до 1, которое показывает, как сильно будет\n",
    "изменяться одна величина при изменении другой"
   ]
  },
  {
   "cell_type": "markdown",
   "id": "d5e386f0",
   "metadata": {},
   "source": [
    "## Визуализация pandas"
   ]
  },
  {
   "cell_type": "code",
   "execution_count": 85,
   "id": "68673d0a",
   "metadata": {
    "scrolled": true
   },
   "outputs": [
    {
     "data": {
      "text/html": [
       "<div>\n",
       "<style scoped>\n",
       "    .dataframe tbody tr th:only-of-type {\n",
       "        vertical-align: middle;\n",
       "    }\n",
       "\n",
       "    .dataframe tbody tr th {\n",
       "        vertical-align: top;\n",
       "    }\n",
       "\n",
       "    .dataframe thead th {\n",
       "        text-align: right;\n",
       "    }\n",
       "</style>\n",
       "<table border=\"1\" class=\"dataframe\">\n",
       "  <thead>\n",
       "    <tr style=\"text-align: right;\">\n",
       "      <th></th>\n",
       "      <th>user_id</th>\n",
       "      <th>age</th>\n",
       "      <th>churn_date</th>\n",
       "      <th>city</th>\n",
       "      <th>first_name</th>\n",
       "      <th>last_name</th>\n",
       "      <th>reg_date</th>\n",
       "      <th>tariff</th>\n",
       "      <th>weekday</th>\n",
       "      <th>month</th>\n",
       "      <th>year</th>\n",
       "    </tr>\n",
       "  </thead>\n",
       "  <tbody>\n",
       "    <tr>\n",
       "      <th>0</th>\n",
       "      <td>1000</td>\n",
       "      <td>52</td>\n",
       "      <td>NaN</td>\n",
       "      <td>Краснодар</td>\n",
       "      <td>Рафаил</td>\n",
       "      <td>Верещагин</td>\n",
       "      <td>2018-05-25</td>\n",
       "      <td>ultra</td>\n",
       "      <td>4</td>\n",
       "      <td>5</td>\n",
       "      <td>2018</td>\n",
       "    </tr>\n",
       "    <tr>\n",
       "      <th>1</th>\n",
       "      <td>1001</td>\n",
       "      <td>41</td>\n",
       "      <td>NaN</td>\n",
       "      <td>Москва</td>\n",
       "      <td>Иван</td>\n",
       "      <td>Ежов</td>\n",
       "      <td>2018-11-01</td>\n",
       "      <td>smart</td>\n",
       "      <td>3</td>\n",
       "      <td>11</td>\n",
       "      <td>2018</td>\n",
       "    </tr>\n",
       "    <tr>\n",
       "      <th>2</th>\n",
       "      <td>1002</td>\n",
       "      <td>59</td>\n",
       "      <td>NaN</td>\n",
       "      <td>Стерлитамак</td>\n",
       "      <td>Евгений</td>\n",
       "      <td>Абрамович</td>\n",
       "      <td>2018-06-17</td>\n",
       "      <td>smart</td>\n",
       "      <td>6</td>\n",
       "      <td>6</td>\n",
       "      <td>2018</td>\n",
       "    </tr>\n",
       "    <tr>\n",
       "      <th>3</th>\n",
       "      <td>1003</td>\n",
       "      <td>23</td>\n",
       "      <td>NaN</td>\n",
       "      <td>Москва</td>\n",
       "      <td>Белла</td>\n",
       "      <td>Белякова</td>\n",
       "      <td>2018-08-17</td>\n",
       "      <td>ultra</td>\n",
       "      <td>4</td>\n",
       "      <td>8</td>\n",
       "      <td>2018</td>\n",
       "    </tr>\n",
       "    <tr>\n",
       "      <th>4</th>\n",
       "      <td>1004</td>\n",
       "      <td>68</td>\n",
       "      <td>NaN</td>\n",
       "      <td>Новокузнецк</td>\n",
       "      <td>Татьяна</td>\n",
       "      <td>Авдеенко</td>\n",
       "      <td>2018-05-14</td>\n",
       "      <td>ultra</td>\n",
       "      <td>0</td>\n",
       "      <td>5</td>\n",
       "      <td>2018</td>\n",
       "    </tr>\n",
       "  </tbody>\n",
       "</table>\n",
       "</div>"
      ],
      "text/plain": [
       "   user_id  age churn_date         city first_name  last_name   reg_date  \\\n",
       "0     1000   52        NaN    Краснодар     Рафаил  Верещагин 2018-05-25   \n",
       "1     1001   41        NaN       Москва       Иван       Ежов 2018-11-01   \n",
       "2     1002   59        NaN  Стерлитамак    Евгений  Абрамович 2018-06-17   \n",
       "3     1003   23        NaN       Москва      Белла   Белякова 2018-08-17   \n",
       "4     1004   68        NaN  Новокузнецк    Татьяна   Авдеенко 2018-05-14   \n",
       "\n",
       "  tariff  weekday  month  year  \n",
       "0  ultra        4      5  2018  \n",
       "1  smart        3     11  2018  \n",
       "2  smart        6      6  2018  \n",
       "3  ultra        4      8  2018  \n",
       "4  ultra        0      5  2018  "
      ]
     },
     "execution_count": 85,
     "metadata": {},
     "output_type": "execute_result"
    }
   ],
   "source": [
    "df.head()"
   ]
  },
  {
   "cell_type": "markdown",
   "id": "7d38f577",
   "metadata": {},
   "source": [
    "### plot (линейный график)"
   ]
  },
  {
   "cell_type": "markdown",
   "id": "ef741ed4",
   "metadata": {},
   "source": [
    "Для построения графика **plot (линейный график)** в разрезе времени, нужны непрерывные значения данных, посчитаем количество количество пользователей за каждую дату."
   ]
  },
  {
   "cell_type": "code",
   "execution_count": 104,
   "id": "3b67b72f",
   "metadata": {},
   "outputs": [
    {
     "data": {
      "text/html": [
       "<div>\n",
       "<style scoped>\n",
       "    .dataframe tbody tr th:only-of-type {\n",
       "        vertical-align: middle;\n",
       "    }\n",
       "\n",
       "    .dataframe tbody tr th {\n",
       "        vertical-align: top;\n",
       "    }\n",
       "\n",
       "    .dataframe thead th {\n",
       "        text-align: right;\n",
       "    }\n",
       "</style>\n",
       "<table border=\"1\" class=\"dataframe\">\n",
       "  <thead>\n",
       "    <tr style=\"text-align: right;\">\n",
       "      <th></th>\n",
       "      <th>reg_date</th>\n",
       "      <th>cnt</th>\n",
       "    </tr>\n",
       "  </thead>\n",
       "  <tbody>\n",
       "    <tr>\n",
       "      <th>0</th>\n",
       "      <td>2018-01-01</td>\n",
       "      <td>2</td>\n",
       "    </tr>\n",
       "    <tr>\n",
       "      <th>1</th>\n",
       "      <td>2018-01-02</td>\n",
       "      <td>2</td>\n",
       "    </tr>\n",
       "    <tr>\n",
       "      <th>2</th>\n",
       "      <td>2018-01-04</td>\n",
       "      <td>5</td>\n",
       "    </tr>\n",
       "    <tr>\n",
       "      <th>3</th>\n",
       "      <td>2018-01-05</td>\n",
       "      <td>1</td>\n",
       "    </tr>\n",
       "    <tr>\n",
       "      <th>4</th>\n",
       "      <td>2018-01-06</td>\n",
       "      <td>1</td>\n",
       "    </tr>\n",
       "  </tbody>\n",
       "</table>\n",
       "</div>"
      ],
      "text/plain": [
       "    reg_date  cnt\n",
       "0 2018-01-01    2\n",
       "1 2018-01-02    2\n",
       "2 2018-01-04    5\n",
       "3 2018-01-05    1\n",
       "4 2018-01-06    1"
      ]
     },
     "execution_count": 104,
     "metadata": {},
     "output_type": "execute_result"
    }
   ],
   "source": [
    "df_plot=df.groupby('reg_date' , as_index=False).agg(cnt=('user_id', 'count'))\n",
    "df_plot.head()"
   ]
  },
  {
   "cell_type": "code",
   "execution_count": 102,
   "id": "fe5b05b4",
   "metadata": {
    "scrolled": true
   },
   "outputs": [
    {
     "data": {
      "text/plain": [
       "<AxesSubplot:xlabel='reg_date'>"
      ]
     },
     "execution_count": 102,
     "metadata": {},
     "output_type": "execute_result"
    },
    {
     "data": {
      "image/png": "[encoded data removed]",
      "text/plain": [
       "<Figure size 576x576 with 1 Axes>"
      ]
     },
     "metadata": {
      "needs_background": "light"
     },
     "output_type": "display_data"
    }
   ],
   "source": [
    "df_plot.plot(x='reg_date', # столбец значений для горизонтальной оси\n",
    "        y='cnt', # столбец значений для вертикальной оси\n",
    "        style='o-', # стиль заполнения:'o'(точечный) или 'o-'(точечно-линейный)\n",
    "        #xlim=(0, 0), # границы по оси X\n",
    "        ylim=(0, 5), # границы по оси Y\n",
    "        figsize=(8, 8), # размеры картинки: (x_size, y_size)\n",
    "        grid=True) # отображать сетку или нет"
   ]
  },
  {
   "cell_type": "markdown",
   "id": "e47f3296",
   "metadata": {},
   "source": [
    "### plot Построение точечной диаграммы (диаграммы рассеяния)"
   ]
  },
  {
   "cell_type": "code",
   "execution_count": 106,
   "id": "d2c3cd0a",
   "metadata": {},
   "outputs": [
    {
     "data": {
      "text/plain": [
       "<AxesSubplot:xlabel='reg_date', ylabel='cnt'>"
      ]
     },
     "execution_count": 106,
     "metadata": {},
     "output_type": "execute_result"
    },
    {
     "data": {
      "image/png": "[encoded data removed]",
      "text/plain": [
       "<Figure size 432x288 with 1 Axes>"
      ]
     },
     "metadata": {
      "needs_background": "light"
     },
     "output_type": "display_data"
    }
   ],
   "source": [
    "df_plot.plot(x='reg_date', y='cnt', kind='scatter')"
   ]
  },
  {
   "cell_type": "markdown",
   "id": "bc30b79f",
   "metadata": {},
   "source": [
    " ### plot Построение ячеечной диаграммы"
   ]
  },
  {
   "cell_type": "code",
   "execution_count": 109,
   "id": "8343383a",
   "metadata": {
    "scrolled": false
   },
   "outputs": [
    {
     "data": {
      "text/plain": [
       "<AxesSubplot:xlabel='age', ylabel='weekday'>"
      ]
     },
     "execution_count": 109,
     "metadata": {},
     "output_type": "execute_result"
    },
    {
     "data": {
      "image/png": "[encoded data removed]",
      "text/plain": [
       "<Figure size 432x288 with 2 Axes>"
      ]
     },
     "metadata": {
      "needs_background": "light"
     },
     "output_type": "display_data"
    }
   ],
   "source": [
    "df.plot(x='age', y='weekday',  kind='hexbin', gridsize=20, sharex=False)"
   ]
  },
  {
   "cell_type": "code",
   "execution_count": 119,
   "id": "19a552a6",
   "metadata": {},
   "outputs": [
    {
     "data": {
      "text/html": [
       "<div>\n",
       "<style scoped>\n",
       "    .dataframe tbody tr th:only-of-type {\n",
       "        vertical-align: middle;\n",
       "    }\n",
       "\n",
       "    .dataframe tbody tr th {\n",
       "        vertical-align: top;\n",
       "    }\n",
       "\n",
       "    .dataframe thead th {\n",
       "        text-align: right;\n",
       "    }\n",
       "</style>\n",
       "<table border=\"1\" class=\"dataframe\">\n",
       "  <thead>\n",
       "    <tr style=\"text-align: right;\">\n",
       "      <th></th>\n",
       "      <th>user_id</th>\n",
       "      <th>age</th>\n",
       "      <th>churn_date</th>\n",
       "      <th>city</th>\n",
       "      <th>first_name</th>\n",
       "      <th>last_name</th>\n",
       "      <th>reg_date</th>\n",
       "      <th>tariff</th>\n",
       "      <th>weekday</th>\n",
       "      <th>month</th>\n",
       "      <th>year</th>\n",
       "    </tr>\n",
       "  </thead>\n",
       "  <tbody>\n",
       "    <tr>\n",
       "      <th>0</th>\n",
       "      <td>1000</td>\n",
       "      <td>52</td>\n",
       "      <td>NaN</td>\n",
       "      <td>Краснодар</td>\n",
       "      <td>Рафаил</td>\n",
       "      <td>Верещагин</td>\n",
       "      <td>2018-05-25</td>\n",
       "      <td>ultra</td>\n",
       "      <td>4</td>\n",
       "      <td>5</td>\n",
       "      <td>2018</td>\n",
       "    </tr>\n",
       "    <tr>\n",
       "      <th>1</th>\n",
       "      <td>1001</td>\n",
       "      <td>41</td>\n",
       "      <td>NaN</td>\n",
       "      <td>Москва</td>\n",
       "      <td>Иван</td>\n",
       "      <td>Ежов</td>\n",
       "      <td>2018-11-01</td>\n",
       "      <td>smart</td>\n",
       "      <td>3</td>\n",
       "      <td>11</td>\n",
       "      <td>2018</td>\n",
       "    </tr>\n",
       "    <tr>\n",
       "      <th>2</th>\n",
       "      <td>1002</td>\n",
       "      <td>59</td>\n",
       "      <td>NaN</td>\n",
       "      <td>Стерлитамак</td>\n",
       "      <td>Евгений</td>\n",
       "      <td>Абрамович</td>\n",
       "      <td>2018-06-17</td>\n",
       "      <td>smart</td>\n",
       "      <td>6</td>\n",
       "      <td>6</td>\n",
       "      <td>2018</td>\n",
       "    </tr>\n",
       "    <tr>\n",
       "      <th>3</th>\n",
       "      <td>1003</td>\n",
       "      <td>23</td>\n",
       "      <td>NaN</td>\n",
       "      <td>Москва</td>\n",
       "      <td>Белла</td>\n",
       "      <td>Белякова</td>\n",
       "      <td>2018-08-17</td>\n",
       "      <td>ultra</td>\n",
       "      <td>4</td>\n",
       "      <td>8</td>\n",
       "      <td>2018</td>\n",
       "    </tr>\n",
       "    <tr>\n",
       "      <th>4</th>\n",
       "      <td>1004</td>\n",
       "      <td>68</td>\n",
       "      <td>NaN</td>\n",
       "      <td>Новокузнецк</td>\n",
       "      <td>Татьяна</td>\n",
       "      <td>Авдеенко</td>\n",
       "      <td>2018-05-14</td>\n",
       "      <td>ultra</td>\n",
       "      <td>0</td>\n",
       "      <td>5</td>\n",
       "      <td>2018</td>\n",
       "    </tr>\n",
       "  </tbody>\n",
       "</table>\n",
       "</div>"
      ],
      "text/plain": [
       "   user_id  age churn_date         city first_name  last_name   reg_date  \\\n",
       "0     1000   52        NaN    Краснодар     Рафаил  Верещагин 2018-05-25   \n",
       "1     1001   41        NaN       Москва       Иван       Ежов 2018-11-01   \n",
       "2     1002   59        NaN  Стерлитамак    Евгений  Абрамович 2018-06-17   \n",
       "3     1003   23        NaN       Москва      Белла   Белякова 2018-08-17   \n",
       "4     1004   68        NaN  Новокузнецк    Татьяна   Авдеенко 2018-05-14   \n",
       "\n",
       "  tariff  weekday  month  year  \n",
       "0  ultra        4      5  2018  \n",
       "1  smart        3     11  2018  \n",
       "2  smart        6      6  2018  \n",
       "3  ultra        4      8  2018  \n",
       "4  ultra        0      5  2018  "
      ]
     },
     "execution_count": 119,
     "metadata": {},
     "output_type": "execute_result"
    }
   ],
   "source": [
    "df.head()"
   ]
  },
  {
   "cell_type": "markdown",
   "id": "9338d0ff",
   "metadata": {},
   "source": [
    "### plot (Построение столбчатой диаграммы)"
   ]
  },
  {
   "cell_type": "code",
   "execution_count": 136,
   "id": "7eea479e",
   "metadata": {},
   "outputs": [
    {
     "data": {
      "text/plain": [
       "<AxesSubplot:xlabel='city'>"
      ]
     },
     "execution_count": 136,
     "metadata": {},
     "output_type": "execute_result"
    },
    {
     "data": {
      "image/png": "[encoded data removed]",
      "text/plain": [
       "<Figure size 432x288 with 1 Axes>"
      ]
     },
     "metadata": {
      "needs_background": "light"
     },
     "output_type": "display_data"
    }
   ],
   "source": [
    "(\n",
    "    df.groupby('city' , as_index=False)\n",
    "    .agg(cnt=('user_id', 'count'),\n",
    "         median=('age', 'median')\n",
    "        )\n",
    "    .sort_values(by='cnt', ascending=False).head(10)\n",
    "    .plot(x='city', kind='bar')\n",
    ")"
   ]
  },
  {
   "cell_type": "code",
   "execution_count": null,
   "id": "f3da47e7",
   "metadata": {},
   "outputs": [],
   "source": []
  },
  {
   "cell_type": "code",
   "execution_count": null,
   "id": "3dcbdb7c",
   "metadata": {},
   "outputs": [],
   "source": []
  },
  {
   "cell_type": "code",
   "execution_count": null,
   "id": "ab87d374",
   "metadata": {},
   "outputs": [],
   "source": []
  },
  {
   "cell_type": "markdown",
   "id": "2bbde873",
   "metadata": {},
   "source": [
    "У метода .plot() есть несколько необязательных параметров. В частности, параметр kind принимает одиннадцать различных строковых значений и определяет, какой тип графика создается:  \n",
    "- area для графиков с накоплением;  \n",
    "- bar для вертикальной гистограммы;  \n",
    "- barh для горизонтальной гистограммы;  \n",
    "- box для графиков с боксами;  \n",
    "- hexbin для шестнадцатеричных графиков;  \n",
    "- hist для гистограмм;  \n",
    "- kde для графика оценки плотности ядра;  \n",
    "- density является альтернативным названием для kde;  \n",
    "- line для линейных графиков;  \n",
    "- для круговых графиков;  \n",
    "- scatter для графиков рассеяния.  "
   ]
  },
  {
   "cell_type": "markdown",
   "id": "4c77d8aa",
   "metadata": {},
   "source": [
    "## Визуализация ч/з библиотеку seaborn"
   ]
  },
  {
   "cell_type": "code",
   "execution_count": null,
   "id": "1f2794c3",
   "metadata": {},
   "outputs": [],
   "source": []
  },
  {
   "cell_type": "code",
   "execution_count": null,
   "id": "35f9c4ba",
   "metadata": {},
   "outputs": [],
   "source": []
  },
  {
   "cell_type": "code",
   "execution_count": null,
   "id": "336aa237",
   "metadata": {},
   "outputs": [],
   "source": []
  },
  {
   "cell_type": "code",
   "execution_count": null,
   "id": "fc4dfbbf",
   "metadata": {},
   "outputs": [],
   "source": []
  },
  {
   "cell_type": "code",
   "execution_count": null,
   "id": "240253b4",
   "metadata": {},
   "outputs": [],
   "source": []
  },
  {
   "cell_type": "code",
   "execution_count": null,
   "id": "f15cf9c8",
   "metadata": {},
   "outputs": [],
   "source": []
  },
  {
   "cell_type": "code",
   "execution_count": null,
   "id": "b334bd97",
   "metadata": {},
   "outputs": [],
   "source": []
  },
  {
   "cell_type": "code",
   "execution_count": null,
   "id": "78239313",
   "metadata": {},
   "outputs": [],
   "source": []
  }
 ],
 "metadata": {
  "kernelspec": {
   "display_name": "Python 3 (ipykernel)",
   "language": "python",
   "name": "python3"
  },
  "language_info": {
   "codemirror_mode": {
    "name": "ipython",
    "version": 3
   },
   "file_extension": ".py",
   "mimetype": "text/x-python",
   "name": "python",
   "nbconvert_exporter": "python",
   "pygments_lexer": "ipython3",
   "version": "3.9.12"
  },
  "toc": {
   "base_numbering": 1,
   "nav_menu": {},
   "number_sections": true,
   "sideBar": true,
   "skip_h1_title": true,
   "title_cell": "Table of Contents",
   "title_sidebar": "Contents",
   "toc_cell": true,
   "toc_position": {
    "height": "calc(100% - 180px)",
    "left": "10px",
    "top": "150px",
    "width": "295.056px"
   },
   "toc_section_display": true,
   "toc_window_display": true
  }
 },
 "nbformat": 4,
 "nbformat_minor": 5
}
